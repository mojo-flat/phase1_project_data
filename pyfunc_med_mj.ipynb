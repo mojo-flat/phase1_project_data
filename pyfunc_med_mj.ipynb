{
 "cells": [
  {
   "cell_type": "markdown",
   "id": "d84c2c55",
   "metadata": {},
   "source": [
    "Hi, my name is Morgan, and I am a data analyst from Atlanta, and I will be walking you through the Python Functions: Medical Insurance Project.\n",
    "\n",
    "In this project, we will write a Python function that uses certain factors such as age, sex, BMI, number of children, and smoking status to estimate medical insurance costs.\n",
    "\n",
    "Let's get started!"
   ]
  },
  {
   "cell_type": "markdown",
   "id": "6a5b042f",
   "metadata": {},
   "source": [
    "## Task 1"
   ]
  },
  {
   "cell_type": "markdown",
   "id": "61125bf5",
   "metadata": {},
   "source": [
    "For our first task, we can take a look at the code in `script.py`.\n",
    "\n",
    "Here, we estimate the medical insurance cost for two individuals, Maria and Omar based on five variabes:\n",
    "\n",
    "`age`, measured in years which as a discrete quanititative variable\n",
    "\n",
    "`sex` which unfortunately due to the medical insurance dataset we are using as a guide does not include data for non-binary individuals. So in this dataset, `sex` is a binary categorical variable with `0` representing female and `1` representing male.\n",
    "\n",
    "`bmi` an individual's body mass index as a continuous quantitative variable\n",
    "\n",
    "`num_of_children` which counts the number of children an individual has as a discrete quantitative variable\n",
    "\n",
    "and `smoker` which is a binary categorical variable that measures if the individual is a smoker represented by the integer 1 or a non-smoker, represented by the integer 0.\n",
    "\n",
    "To estimate insurance costs these variables are used in the following formula where:\n",
    "\n",
    "insurance_cost =250∗age−128∗sex+370∗bmi+425∗num_of_children+24000∗smoker−12500\n",
    "\n",
    "Let's click save to see the estimated insurance costs for Maria and Omar."
   ]
  },
  {
   "cell_type": "markdown",
   "id": "6abe7c56",
   "metadata": {},
   "source": [
    "Our print statements inform us that the estimated insurance cost for Maria is 5469.0 dollars and the estimated insurance cost for Omar is 28336.0 dollars."
   ]
  },
  {
   "cell_type": "markdown",
   "id": "503be609",
   "metadata": {},
   "source": [
    "## Task 2"
   ]
  },
  {
   "cell_type": "markdown",
   "id": "1a9cc30e",
   "metadata": {},
   "source": [
    "Notice that the code to estimate insurance costs for Maria and Omar looks very simlar, in both cases we calculate the insurance cost using the same formula and then print the output.\n",
    "\n",
    "This code is a great candidate for a function because it involves repeating almost identical commands in multiple places.\n",
    "\n",
    "Let's start by defining a function called `calculate_insurance_cost()` on line 2. For now we can define the function without any parameters or output:"
   ]
  },
  {
   "cell_type": "code",
   "execution_count": null,
   "id": "e133ac65",
   "metadata": {},
   "outputs": [],
   "source": [
    "def calculate_insurance_cost():"
   ]
  },
  {
   "cell_type": "markdown",
   "id": "eacb0f15",
   "metadata": {},
   "source": [
    "## Task 3"
   ]
  },
  {
   "cell_type": "markdown",
   "id": "439842e2",
   "metadata": {},
   "source": [
    "When creating a new function, it is good practice to outline the behavior it should have. We will want our `calculate_insurance_cost()` function to create a variable called `estimated_cost` which we can set to a value of `1000`, which we will amend with the full formula in the next steps.\n",
    "\n",
    "We will add a print statement that prints something like \"The estimated insurance cost for this person is\" and insert the `estimated_cost` variable as a string.\n",
    "\n",
    "And finally, returns `estimated_cost`.\n",
    "\n",
    "So under the line that defines our function we can call:"
   ]
  },
  {
   "cell_type": "code",
   "execution_count": null,
   "id": "39d6146b",
   "metadata": {},
   "outputs": [],
   "source": [
    "def calculate_insurance_cost():\n",
    "    estimated_cost = 1000\n",
    "    "
   ]
  },
  {
   "cell_type": "markdown",
   "id": "b5389578",
   "metadata": {},
   "source": [
    "Add our print statement:"
   ]
  },
  {
   "cell_type": "code",
   "execution_count": null,
   "id": "0cd5078c",
   "metadata": {},
   "outputs": [],
   "source": [
    "def calculate_insurance_cost():\n",
    "    estimated_cost = 1000\n",
    "    print(\"The estimated insurance cost for this person is \" + str(estimated_cost) + \" dollars.\")"
   ]
  },
  {
   "cell_type": "markdown",
   "id": "726d3984",
   "metadata": {},
   "source": [
    "And will return the estimated_cost variable so we can call:"
   ]
  },
  {
   "cell_type": "code",
   "execution_count": 4,
   "id": "6b9812a3",
   "metadata": {},
   "outputs": [],
   "source": [
    "def calculate_insurance_cost():\n",
    "    estimated_cost = 1000\n",
    "    print(\"The estimated insurance cost for this person is \" + str(estimated_cost) + \" dollars.\")\n",
    "    return estimated_cost"
   ]
  },
  {
   "cell_type": "markdown",
   "id": "a474280d",
   "metadata": {},
   "source": [
    "## Task 4"
   ]
  },
  {
   "cell_type": "markdown",
   "id": "191092ec",
   "metadata": {},
   "source": [
    "Great! We have created a simple Python function that we can use to estimate insurance costs.\n",
    "\n",
    "Now let's alter the function so that the `estimated_cost` variable will be equal to the insurance cost formula instead of an arbitrary value of `1000`.\n",
    "\n",
    "For this we will first need to add the factors used to calculate the medical insurnace costs as parameters to our function, so we can go ahead and add them in our definition:"
   ]
  },
  {
   "cell_type": "code",
   "execution_count": null,
   "id": "c263f46e",
   "metadata": {},
   "outputs": [],
   "source": [
    "def calculate_insurance_cost(age, sex, bmi, num_of_children, smoker):\n",
    "    estimated_cost = 1000\n",
    "    print(\"The estimated insurance cost for this person is \" + str(estimated_cost) + \" dollars.\")\n",
    "    return estimated_cost"
   ]
  },
  {
   "cell_type": "markdown",
   "id": "62d297ff",
   "metadata": {},
   "source": [
    "## Task 5"
   ]
  },
  {
   "cell_type": "markdown",
   "id": "aa1fc895",
   "metadata": {},
   "source": [
    "Now that our function is able to take in the parameters we need to calculate insurance costs, we can use them inside of our function.\n",
    "\n",
    "Here we can change the value of the `estimated_cost` variable from 1000 to our formula for insurance cost so that: "
   ]
  },
  {
   "cell_type": "code",
   "execution_count": 5,
   "id": "781565b0",
   "metadata": {},
   "outputs": [],
   "source": [
    "def calculate_insurance_cost(age, sex, bmi, num_of_children, smoker):\n",
    "    estimated_cost = 250*age - 128*sex + 370*bmi + 425*num_of_children + 24000*smoker - 12500\n",
    "    print(\"The estimated insurance cost for this person is \" + str(estimated_cost) + \" dollars.\")\n",
    "    return estimated_cost"
   ]
  },
  {
   "cell_type": "code",
   "execution_count": null,
   "id": "a065d9dc",
   "metadata": {},
   "outputs": [],
   "source": [
    "def calculate_insurance_cost(age, sex, bmi, num_of_children, smoker):\n",
    "    estimated_cost = 250*age - 128*sex + 370*bmi + 425*num_of_children + 24000*smoker - 12500\n",
    "    print(\"The estimated insurance cost for this person is \" + str(estimated_cost) + \" dollars.\")\n",
    "    return estimated_cost"
   ]
  },
  {
   "cell_type": "markdown",
   "id": "c9a090cb",
   "metadata": {},
   "source": [
    "## Task 6"
   ]
  },
  {
   "cell_type": "markdown",
   "id": "da5dd713",
   "metadata": {},
   "source": [
    "WIth our function properly set up to calculate an individual's medical insurance costs based on the five variables passed into it, let's try it out!\n",
    "\n",
    "We can rename the `insurance_cost` variable as `maria_insurance_cost` and set it equal to `calculate_insurance_cost` with the appropriate values for `Maria` as arguments."
   ]
  },
  {
   "cell_type": "code",
   "execution_count": 6,
   "id": "0d9ce221",
   "metadata": {},
   "outputs": [
    {
     "name": "stdout",
     "output_type": "stream",
     "text": [
      "The estimated insurance cost for this person is 5469.0 dollars.\n"
     ]
    }
   ],
   "source": [
    "maria_insurance_cost = calculate_insurance_cost(age=28, sex=0, bmi=26.2, num_of_children=3, smoker=0)"
   ]
  },
  {
   "cell_type": "code",
   "execution_count": 7,
   "id": "4dfca183",
   "metadata": {},
   "outputs": [
    {
     "name": "stdout",
     "output_type": "stream",
     "text": [
      "The estimated insurance cost for this person is 5469.0 dollars.\n"
     ]
    }
   ],
   "source": [
    "maria_insurance_cost = calculate_insurance_cost(age=28, sex=0, bmi=26.2, num_of_children=3, smoker=0)"
   ]
  },
  {
   "cell_type": "markdown",
   "id": "5d05cdbe",
   "metadata": {},
   "source": [
    "## Task 7"
   ]
  },
  {
   "cell_type": "markdown",
   "id": "b4fa6274",
   "metadata": {},
   "source": [
    "Now we can remove the print statement for Maria, since our function will take care of printing the estimated cost for us. \n",
    "\n",
    "We can also delete the five lines of code defining the initial varibales for Maria as we are now passing in these values directly in the function call. "
   ]
  },
  {
   "cell_type": "markdown",
   "id": "eb8ea3ac",
   "metadata": {},
   "source": [
    "### DELETE PRINT LINE AND 5 LINES FOR MARIA ###"
   ]
  },
  {
   "cell_type": "markdown",
   "id": "211c263b",
   "metadata": {},
   "source": [
    "## Task 8"
   ]
  },
  {
   "cell_type": "markdown",
   "id": "7b3160d1",
   "metadata": {},
   "source": [
    "Now we can repeat the same steps for Omar as we did for Maria.\n",
    "\n",
    "Let's rename `insurance_cost` as `omar_insurance_cost` and set it equal to the `calculate_insurance_cost()` function:"
   ]
  },
  {
   "cell_type": "code",
   "execution_count": null,
   "id": "2c460018",
   "metadata": {},
   "outputs": [],
   "source": [
    "omar_insurance_cost = calculate_insurance_cost()"
   ]
  },
  {
   "cell_type": "markdown",
   "id": "348209fc",
   "metadata": {},
   "source": [
    "And then input Omar's values as arguments so that:"
   ]
  },
  {
   "cell_type": "code",
   "execution_count": 9,
   "id": "f30902fa",
   "metadata": {},
   "outputs": [
    {
     "name": "stdout",
     "output_type": "stream",
     "text": [
      "The estimated insurance cost for this person is 28336.0 dollars.\n"
     ]
    }
   ],
   "source": [
    "omar_insurance_cost = calculate_insurance_cost(age=35, sex=1, bmi=22.2, num_of_children=0, smoker=1)"
   ]
  },
  {
   "cell_type": "code",
   "execution_count": null,
   "id": "d1991c27",
   "metadata": {},
   "outputs": [],
   "source": [
    "omar_insurance_cost = calculate_insurance_cost(age=35, sex=1, bmi=22.2, num_of_children=0, smoker=1)"
   ]
  },
  {
   "cell_type": "markdown",
   "id": "26a91149",
   "metadata": {},
   "source": [
    "Now we can remove the initial variables for Omar and the print statement."
   ]
  },
  {
   "cell_type": "markdown",
   "id": "dec1096f",
   "metadata": {},
   "source": [
    "### DELETE PRINT LINE AND 5 LINES FOR MARIA ###"
   ]
  },
  {
   "cell_type": "markdown",
   "id": "92abd626",
   "metadata": {},
   "source": [
    "By using functions we were able to clean so many lines of code while maintaining the same functionality."
   ]
  },
  {
   "cell_type": "markdown",
   "id": "ef8141eb",
   "metadata": {},
   "source": [
    "## Task 9"
   ]
  },
  {
   "cell_type": "markdown",
   "id": "c8684334",
   "metadata": {},
   "source": [
    "Now when we click save, we are able to see the estimated insurance costs for Maria and Omar by using our function calls.\n",
    "\n",
    "In the output terminal we can see the message: \"The estimated insurance cost for this person is...\" but doesn't tell us who this individual is. \n",
    "\n",
    "Let's begin to resolve this by first including the `name` value as a parameter in the `calculate_insurance_cost()` function definition."
   ]
  },
  {
   "cell_type": "code",
   "execution_count": 10,
   "id": "4ec3fc4e",
   "metadata": {},
   "outputs": [],
   "source": [
    "def calculate_insurance_cost(name, age, sex, bmi, num_of_children, smoker):\n",
    "    estimated_cost = 250*age - 128*sex + 370*bmi + 425*num_of_children + 24000*smoker - 12500\n",
    "    print(\"The estimated insurance cost for this person is \" + str(estimated_cost) + \" dollars.\")\n",
    "    return estimated_cost"
   ]
  },
  {
   "cell_type": "markdown",
   "id": "b7d69d8f",
   "metadata": {},
   "source": [
    "## Task 10"
   ]
  },
  {
   "cell_type": "markdown",
   "id": "97d0065f",
   "metadata": {},
   "source": [
    "Next we can modify the print statement within the `calculate_insurance_cost()` definition so that it replaces the phrase \"this person\" with the `name` variable. \n",
    "\n",
    "We can use concatenation to acheive this so now our print statement will read:"
   ]
  },
  {
   "cell_type": "code",
   "execution_count": 13,
   "id": "a9080d2a",
   "metadata": {},
   "outputs": [],
   "source": [
    "def calculate_insurance_cost(name, age, sex, bmi, num_of_children, smoker):\n",
    "    estimated_cost = 250*age - 128*sex + 370*bmi + 425*num_of_children + 24000*smoker - 12500\n",
    "    print(\"The estimated insurance cost for \" + name + \" is \" + str(estimated_cost) + \" dollars.\")\n",
    "    return estimated_cost"
   ]
  },
  {
   "cell_type": "markdown",
   "id": "4aee8f74",
   "metadata": {},
   "source": [
    "## Task 11"
   ]
  },
  {
   "cell_type": "markdown",
   "id": "18c684ec",
   "metadata": {},
   "source": [
    "We will also need to update our function calls to include the name values as an argument for each individual.\n",
    "\n",
    "First we can upate the function call for `maria_insurance_cost` and pass in Maria's name as an argument so that:"
   ]
  },
  {
   "cell_type": "code",
   "execution_count": 14,
   "id": "d3a91b4f",
   "metadata": {},
   "outputs": [
    {
     "name": "stdout",
     "output_type": "stream",
     "text": [
      "The estimated insurance cost for Maria is 5469.0 dollars.\n"
     ]
    }
   ],
   "source": [
    "maria_insurance_cost = calculate_insurance_cost(name = \"Maria\", age = 28, sex = 0, bmi = 26.2, num_of_children = 3, smoker = 0)"
   ]
  },
  {
   "cell_type": "markdown",
   "id": "a135463b",
   "metadata": {},
   "source": [
    "And we can do the same for `omar_insurance_cost` so here:"
   ]
  },
  {
   "cell_type": "code",
   "execution_count": null,
   "id": "5be47005",
   "metadata": {},
   "outputs": [],
   "source": [
    "omar_insurance_cost = calculate_insurance_cost(name = \"Omar\", age = 35, sex = 1, bmi = 22.2, num_of_children = 0, smoker = 1)"
   ]
  },
  {
   "cell_type": "markdown",
   "id": "8bc8326f",
   "metadata": {},
   "source": [
    "Now when we click save, we can see that our function is able to write a more personal message that includes the name of the individual it is estimating insurance costs for!"
   ]
  },
  {
   "cell_type": "markdown",
   "id": "05d260b5",
   "metadata": {},
   "source": [
    "## Task 12"
   ]
  },
  {
   "cell_type": "markdown",
   "id": "25eddcee",
   "metadata": {},
   "source": [
    "Now that we were able to successfully estimate the insurance costs for Maria and Omar, we can try estimating our own insurance cost.\n",
    "\n",
    "At the bottom of our code, we can create a new `insurance_cost` variable for ourself.\n",
    "\n",
    "For this walkthrough I can call:"
   ]
  },
  {
   "cell_type": "code",
   "execution_count": null,
   "id": "5766a0bd",
   "metadata": {},
   "outputs": [],
   "source": [
    "morgan_insurance_cost = "
   ]
  },
  {
   "cell_type": "markdown",
   "id": "a5c6cde5",
   "metadata": {},
   "source": [
    "And set it equal to `calculate_insurance_cost()` and pass in my own values:"
   ]
  },
  {
   "cell_type": "code",
   "execution_count": 15,
   "id": "e1e120e4",
   "metadata": {},
   "outputs": [
    {
     "name": "stdout",
     "output_type": "stream",
     "text": [
      "The estimated insurance cost for Morgan is 3882 dollars.\n"
     ]
    }
   ],
   "source": [
    "morgan_insurance_cost = calculate_insurance_cost(name=\"Morgan\", age=32, sex=1, bmi=23, num_of_children=0, smoker=0)"
   ]
  },
  {
   "cell_type": "code",
   "execution_count": null,
   "id": "378cb434",
   "metadata": {},
   "outputs": [],
   "source": [
    "morgan_insurance_cost = calculate_insurance_cost(name=\"Morgan\", age=32, sex=1, bmi=23, num_of_children=0, smoker=0)"
   ]
  },
  {
   "cell_type": "markdown",
   "id": "f06301f4",
   "metadata": {},
   "source": [
    "And when we click save to see the result, our function informs me that:"
   ]
  },
  {
   "cell_type": "markdown",
   "id": "3b311c23",
   "metadata": {},
   "source": [
    "### READ PRINT MESSAGE ###"
   ]
  },
  {
   "cell_type": "markdown",
   "id": "8d35ab60",
   "metadata": {},
   "source": [
    "## Task 13"
   ]
  },
  {
   "cell_type": "markdown",
   "id": "673efc9b",
   "metadata": {},
   "source": [
    "Congratulations! In this project you have created a useful function that calculates medical insurance costs based on factors about an individual!\n",
    "\n",
    "Let's sharpen our skills with some extra practice. "
   ]
  },
  {
   "cell_type": "markdown",
   "id": "89f63b15",
   "metadata": {},
   "source": [
    "For our first extension, let's modify the `calculate_insurance_cost()` function so that it returns the output message along with the estimated cost:"
   ]
  },
  {
   "cell_type": "code",
   "execution_count": 16,
   "id": "1bf841bb",
   "metadata": {},
   "outputs": [],
   "source": [
    "def calculate_insurance_cost(name, age, sex, bmi, num_of_children, smoker):\n",
    "    estimated_cost = 250*age - 128*sex + 370*bmi + 425*num_of_children + 24000*smoker - 12500\n",
    "    ## print(\"The estimated insurance cost for\" + name + \" is \" + str(estimated_cost) + \" dollars.\")\n",
    "    return estimated_cost, print(\"The estimated insurance cost for\" + name + \" is \" + str(estimated_cost) + \" dollars.\")"
   ]
  },
  {
   "cell_type": "markdown",
   "id": "413c152c",
   "metadata": {},
   "source": [
    "As a second extension, we can create a second function to calculate the difference between the insurance costs of any two individuals and print a statement saying: \"The difference in insurance cost is X dollars.\"\n",
    "\n",
    "We can call our function:"
   ]
  },
  {
   "cell_type": "code",
   "execution_count": 17,
   "id": "eb3614f8",
   "metadata": {},
   "outputs": [],
   "source": [
    "def cost_diff(cost_1, cost_2):\n",
    "    diff = cost_1 - cost_2\n",
    "    print(\"The difference in insurance cost is \" + str(diff) + \" dollars.\")"
   ]
  },
  {
   "cell_type": "markdown",
   "id": "e88fdd04",
   "metadata": {},
   "source": [
    "Now let's test `cost_diff()` out on the insurance costs for Omar and Maria:"
   ]
  },
  {
   "cell_type": "code",
   "execution_count": 26,
   "id": "b8d47b1f",
   "metadata": {},
   "outputs": [
    {
     "name": "stdout",
     "output_type": "stream",
     "text": [
      "The difference in insurance cost is 22867.0 dollars.\n"
     ]
    }
   ],
   "source": [
    "cost_diff(omar_insurance_cost, maria_insurance_cost)"
   ]
  },
  {
   "cell_type": "markdown",
   "id": "8c0c7326",
   "metadata": {},
   "source": [
    "Fantastic work! \n",
    "\n",
    "Functions like the ones we created today will help you along your data scientist journey by making your code clean and modular, free of repetitive code.\n",
    "\n",
    "We here at codecademy encourage you to continue sharpining your skills with functions.\n",
    "\n",
    "Happy coding!"
   ]
  },
  {
   "cell_type": "code",
   "execution_count": null,
   "id": "1a8606ca",
   "metadata": {},
   "outputs": [],
   "source": []
  },
  {
   "cell_type": "code",
   "execution_count": null,
   "id": "c6d8016b",
   "metadata": {},
   "outputs": [],
   "source": []
  },
  {
   "cell_type": "code",
   "execution_count": null,
   "id": "2bcb0087",
   "metadata": {},
   "outputs": [],
   "source": []
  },
  {
   "cell_type": "code",
   "execution_count": null,
   "id": "17b0e45d",
   "metadata": {},
   "outputs": [],
   "source": [
    "# Create calculate_insurance_cost() function below: \n",
    "def calculate_insurance_cost(name, age, sex, bmi, num_of_children, smoker):\n",
    "  estimated_cost = 250*age - 128*sex + 370*bmi + 425*num_of_children + 24000*smoker - 12500\n",
    "  print(\"The estimated insurance cost for \" + name + \" is \" + str(estimated_cost) + \" dollars.\")\n",
    "  return estimated_cost\n",
    "\n",
    "# Estimate Maria's insurance cost\n",
    "maria_insurance_cost = calculate_insurance_cost(name = \"Maria\", age = 28, sex = 0, bmi = 26.2, num_of_children = 3, smoker = 0)\n",
    "\n",
    "# Estimate Omar's insurance cost \n",
    "omar_insurance_cost = calculate_insurance_cost(name = \"Omar\", age = 35, sex = 1, bmi = 22.2, num_of_children = 0, smoker = 1)"
   ]
  },
  {
   "cell_type": "code",
   "execution_count": null,
   "id": "bb7e3725",
   "metadata": {},
   "outputs": [],
   "source": []
  }
 ],
 "metadata": {
  "kernelspec": {
   "display_name": "Python 3 (ipykernel)",
   "language": "python",
   "name": "python3"
  },
  "language_info": {
   "codemirror_mode": {
    "name": "ipython",
    "version": 3
   },
   "file_extension": ".py",
   "mimetype": "text/x-python",
   "name": "python",
   "nbconvert_exporter": "python",
   "pygments_lexer": "ipython3",
   "version": "3.9.7"
  },
  "toc": {
   "base_numbering": 1,
   "nav_menu": {},
   "number_sections": true,
   "sideBar": true,
   "skip_h1_title": false,
   "title_cell": "Table of Contents",
   "title_sidebar": "Contents",
   "toc_cell": false,
   "toc_position": {},
   "toc_section_display": true,
   "toc_window_display": false
  }
 },
 "nbformat": 4,
 "nbformat_minor": 5
}
