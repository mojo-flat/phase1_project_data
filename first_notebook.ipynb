{
 "cells": [
  {
   "cell_type": "markdown",
   "id": "e0c47734",
   "metadata": {},
   "source": [
    "#### Importing"
   ]
  },
  {
   "cell_type": "code",
   "execution_count": 1,
   "id": "44b432eb",
   "metadata": {},
   "outputs": [],
   "source": [
    "import pandas as pd  # Alias pandas to be referred to as pd\n",
    "import numpy as np  # Alias numpy to be referred to as np\n",
    "import matplotlib.pyplot as plt  # Alias matplotlib.pyplot to be referred to as plt\n",
    "import seaborn as sns  # Alias seaborn to be referred to as sns\n",
    "from glob import glob\n",
    "import os\n",
    "\n",
    "# Magic funtion to allow plot outputs to appear and be stored within out notebook\n",
    "%matplotlib inline\n",
    "\n",
    "import warnings\n",
    "warnings.filterwarnings('ignore')"
   ]
  },
  {
   "cell_type": "code",
   "execution_count": 2,
   "id": "13ac3d11",
   "metadata": {},
   "outputs": [],
   "source": [
    "# Read in initial dataframes"
   ]
  },
  {
   "cell_type": "markdown",
   "id": "956d5fe9",
   "metadata": {},
   "source": [
    "##### pandas"
   ]
  },
  {
   "cell_type": "code",
   "execution_count": 3,
   "id": "7f5a5269",
   "metadata": {
    "scrolled": true
   },
   "outputs": [
    {
     "data": {
      "text/html": [
       "<div>\n",
       "<style scoped>\n",
       "    .dataframe tbody tr th:only-of-type {\n",
       "        vertical-align: middle;\n",
       "    }\n",
       "\n",
       "    .dataframe tbody tr th {\n",
       "        vertical-align: top;\n",
       "    }\n",
       "\n",
       "    .dataframe thead th {\n",
       "        text-align: right;\n",
       "    }\n",
       "</style>\n",
       "<table border=\"1\" class=\"dataframe\">\n",
       "  <thead>\n",
       "    <tr style=\"text-align: right;\">\n",
       "      <th></th>\n",
       "      <th>title</th>\n",
       "      <th>studio</th>\n",
       "      <th>domestic_gross</th>\n",
       "      <th>foreign_gross</th>\n",
       "      <th>year</th>\n",
       "    </tr>\n",
       "  </thead>\n",
       "  <tbody>\n",
       "    <tr>\n",
       "      <th>0</th>\n",
       "      <td>Toy Story 3</td>\n",
       "      <td>BV</td>\n",
       "      <td>415000000.0</td>\n",
       "      <td>652000000</td>\n",
       "      <td>2010</td>\n",
       "    </tr>\n",
       "    <tr>\n",
       "      <th>1</th>\n",
       "      <td>Alice in Wonderland (2010)</td>\n",
       "      <td>BV</td>\n",
       "      <td>334200000.0</td>\n",
       "      <td>691300000</td>\n",
       "      <td>2010</td>\n",
       "    </tr>\n",
       "    <tr>\n",
       "      <th>2</th>\n",
       "      <td>Harry Potter and the Deathly Hallows Part 1</td>\n",
       "      <td>WB</td>\n",
       "      <td>296000000.0</td>\n",
       "      <td>664300000</td>\n",
       "      <td>2010</td>\n",
       "    </tr>\n",
       "    <tr>\n",
       "      <th>3</th>\n",
       "      <td>Inception</td>\n",
       "      <td>WB</td>\n",
       "      <td>292600000.0</td>\n",
       "      <td>535700000</td>\n",
       "      <td>2010</td>\n",
       "    </tr>\n",
       "    <tr>\n",
       "      <th>4</th>\n",
       "      <td>Shrek Forever After</td>\n",
       "      <td>P/DW</td>\n",
       "      <td>238700000.0</td>\n",
       "      <td>513900000</td>\n",
       "      <td>2010</td>\n",
       "    </tr>\n",
       "  </tbody>\n",
       "</table>\n",
       "</div>"
      ],
      "text/plain": [
       "                                         title studio  domestic_gross  \\\n",
       "0                                  Toy Story 3     BV     415000000.0   \n",
       "1                   Alice in Wonderland (2010)     BV     334200000.0   \n",
       "2  Harry Potter and the Deathly Hallows Part 1     WB     296000000.0   \n",
       "3                                    Inception     WB     292600000.0   \n",
       "4                          Shrek Forever After   P/DW     238700000.0   \n",
       "\n",
       "  foreign_gross  year  \n",
       "0     652000000  2010  \n",
       "1     691300000  2010  \n",
       "2     664300000  2010  \n",
       "3     535700000  2010  \n",
       "4     513900000  2010  "
      ]
     },
     "execution_count": 3,
     "metadata": {},
     "output_type": "execute_result"
    }
   ],
   "source": [
    "df = pd.read_csv(\"data/bom.movie_gross.csv.gz\")\n",
    "df.head()"
   ]
  },
  {
   "cell_type": "code",
   "execution_count": 4,
   "id": "08bf9b23",
   "metadata": {},
   "outputs": [
    {
     "data": {
      "text/html": [
       "<div>\n",
       "<style scoped>\n",
       "    .dataframe tbody tr th:only-of-type {\n",
       "        vertical-align: middle;\n",
       "    }\n",
       "\n",
       "    .dataframe tbody tr th {\n",
       "        vertical-align: top;\n",
       "    }\n",
       "\n",
       "    .dataframe thead th {\n",
       "        text-align: right;\n",
       "    }\n",
       "</style>\n",
       "<table border=\"1\" class=\"dataframe\">\n",
       "  <thead>\n",
       "    <tr style=\"text-align: right;\">\n",
       "      <th></th>\n",
       "      <th>id</th>\n",
       "      <th>synopsis</th>\n",
       "      <th>rating</th>\n",
       "      <th>genre</th>\n",
       "      <th>director</th>\n",
       "      <th>writer</th>\n",
       "      <th>theater_date</th>\n",
       "      <th>dvd_date</th>\n",
       "      <th>currency</th>\n",
       "      <th>box_office</th>\n",
       "      <th>runtime</th>\n",
       "      <th>studio</th>\n",
       "    </tr>\n",
       "  </thead>\n",
       "  <tbody>\n",
       "    <tr>\n",
       "      <th>0</th>\n",
       "      <td>1</td>\n",
       "      <td>This gritty, fast-paced, and innovative police...</td>\n",
       "      <td>R</td>\n",
       "      <td>Action and Adventure|Classics|Drama</td>\n",
       "      <td>William Friedkin</td>\n",
       "      <td>Ernest Tidyman</td>\n",
       "      <td>Oct 9, 1971</td>\n",
       "      <td>Sep 25, 2001</td>\n",
       "      <td>NaN</td>\n",
       "      <td>NaN</td>\n",
       "      <td>104 minutes</td>\n",
       "      <td>NaN</td>\n",
       "    </tr>\n",
       "    <tr>\n",
       "      <th>1</th>\n",
       "      <td>3</td>\n",
       "      <td>New York City, not-too-distant-future: Eric Pa...</td>\n",
       "      <td>R</td>\n",
       "      <td>Drama|Science Fiction and Fantasy</td>\n",
       "      <td>David Cronenberg</td>\n",
       "      <td>David Cronenberg|Don DeLillo</td>\n",
       "      <td>Aug 17, 2012</td>\n",
       "      <td>Jan 1, 2013</td>\n",
       "      <td>$</td>\n",
       "      <td>600,000</td>\n",
       "      <td>108 minutes</td>\n",
       "      <td>Entertainment One</td>\n",
       "    </tr>\n",
       "    <tr>\n",
       "      <th>2</th>\n",
       "      <td>5</td>\n",
       "      <td>Illeana Douglas delivers a superb performance ...</td>\n",
       "      <td>R</td>\n",
       "      <td>Drama|Musical and Performing Arts</td>\n",
       "      <td>Allison Anders</td>\n",
       "      <td>Allison Anders</td>\n",
       "      <td>Sep 13, 1996</td>\n",
       "      <td>Apr 18, 2000</td>\n",
       "      <td>NaN</td>\n",
       "      <td>NaN</td>\n",
       "      <td>116 minutes</td>\n",
       "      <td>NaN</td>\n",
       "    </tr>\n",
       "    <tr>\n",
       "      <th>3</th>\n",
       "      <td>6</td>\n",
       "      <td>Michael Douglas runs afoul of a treacherous su...</td>\n",
       "      <td>R</td>\n",
       "      <td>Drama|Mystery and Suspense</td>\n",
       "      <td>Barry Levinson</td>\n",
       "      <td>Paul Attanasio|Michael Crichton</td>\n",
       "      <td>Dec 9, 1994</td>\n",
       "      <td>Aug 27, 1997</td>\n",
       "      <td>NaN</td>\n",
       "      <td>NaN</td>\n",
       "      <td>128 minutes</td>\n",
       "      <td>NaN</td>\n",
       "    </tr>\n",
       "    <tr>\n",
       "      <th>4</th>\n",
       "      <td>7</td>\n",
       "      <td>NaN</td>\n",
       "      <td>NR</td>\n",
       "      <td>Drama|Romance</td>\n",
       "      <td>Rodney Bennett</td>\n",
       "      <td>Giles Cooper</td>\n",
       "      <td>NaN</td>\n",
       "      <td>NaN</td>\n",
       "      <td>NaN</td>\n",
       "      <td>NaN</td>\n",
       "      <td>200 minutes</td>\n",
       "      <td>NaN</td>\n",
       "    </tr>\n",
       "  </tbody>\n",
       "</table>\n",
       "</div>"
      ],
      "text/plain": [
       "   id                                           synopsis rating  \\\n",
       "0   1  This gritty, fast-paced, and innovative police...      R   \n",
       "1   3  New York City, not-too-distant-future: Eric Pa...      R   \n",
       "2   5  Illeana Douglas delivers a superb performance ...      R   \n",
       "3   6  Michael Douglas runs afoul of a treacherous su...      R   \n",
       "4   7                                                NaN     NR   \n",
       "\n",
       "                                 genre          director  \\\n",
       "0  Action and Adventure|Classics|Drama  William Friedkin   \n",
       "1    Drama|Science Fiction and Fantasy  David Cronenberg   \n",
       "2    Drama|Musical and Performing Arts    Allison Anders   \n",
       "3           Drama|Mystery and Suspense    Barry Levinson   \n",
       "4                        Drama|Romance    Rodney Bennett   \n",
       "\n",
       "                            writer  theater_date      dvd_date currency  \\\n",
       "0                   Ernest Tidyman   Oct 9, 1971  Sep 25, 2001      NaN   \n",
       "1     David Cronenberg|Don DeLillo  Aug 17, 2012   Jan 1, 2013        $   \n",
       "2                   Allison Anders  Sep 13, 1996  Apr 18, 2000      NaN   \n",
       "3  Paul Attanasio|Michael Crichton   Dec 9, 1994  Aug 27, 1997      NaN   \n",
       "4                     Giles Cooper           NaN           NaN      NaN   \n",
       "\n",
       "  box_office      runtime             studio  \n",
       "0        NaN  104 minutes                NaN  \n",
       "1    600,000  108 minutes  Entertainment One  \n",
       "2        NaN  116 minutes                NaN  \n",
       "3        NaN  128 minutes                NaN  \n",
       "4        NaN  200 minutes                NaN  "
      ]
     },
     "execution_count": 4,
     "metadata": {},
     "output_type": "execute_result"
    }
   ],
   "source": [
    "df_rt = pd.read_csv(\"data/rt.movie_info.tsv.gz\", sep='\\t')\n",
    "df_rt.head()"
   ]
  },
  {
   "cell_type": "code",
   "execution_count": 41,
   "id": "d4409a70",
   "metadata": {},
   "outputs": [
    {
     "ename": "UnicodeDecodeError",
     "evalue": "'utf-8' codec can't decode byte 0xa0 in position 6558: invalid start byte",
     "output_type": "error",
     "traceback": [
      "\u001b[0;31m---------------------------------------------------------------------------\u001b[0m",
      "\u001b[0;31mUnicodeDecodeError\u001b[0m                        Traceback (most recent call last)",
      "\u001b[0;32m/var/folders/ym/96mfpf3d23zg0wktdpp39dgr0000gp/T/ipykernel_2703/1594697389.py\u001b[0m in \u001b[0;36m<module>\u001b[0;34m\u001b[0m\n\u001b[0;32m----> 1\u001b[0;31m \u001b[0mdf_rt_reviews\u001b[0m \u001b[0;34m=\u001b[0m \u001b[0mpd\u001b[0m\u001b[0;34m.\u001b[0m\u001b[0mread_csv\u001b[0m\u001b[0;34m(\u001b[0m\u001b[0;34m\"data/rt.reviews.tsv.gz\"\u001b[0m\u001b[0;34m,\u001b[0m \u001b[0msep\u001b[0m\u001b[0;34m=\u001b[0m\u001b[0;34m'\\t'\u001b[0m\u001b[0;34m)\u001b[0m\u001b[0;34m\u001b[0m\u001b[0;34m\u001b[0m\u001b[0m\n\u001b[0m\u001b[1;32m      2\u001b[0m \u001b[0mdf_rt_reviews\u001b[0m\u001b[0;34m.\u001b[0m\u001b[0mhead\u001b[0m\u001b[0;34m(\u001b[0m\u001b[0;34m)\u001b[0m\u001b[0;34m\u001b[0m\u001b[0;34m\u001b[0m\u001b[0m\n",
      "\u001b[0;32m~/opt/anaconda3/lib/python3.9/site-packages/pandas/util/_decorators.py\u001b[0m in \u001b[0;36mwrapper\u001b[0;34m(*args, **kwargs)\u001b[0m\n\u001b[1;32m    309\u001b[0m                     \u001b[0mstacklevel\u001b[0m\u001b[0;34m=\u001b[0m\u001b[0mstacklevel\u001b[0m\u001b[0;34m,\u001b[0m\u001b[0;34m\u001b[0m\u001b[0;34m\u001b[0m\u001b[0m\n\u001b[1;32m    310\u001b[0m                 )\n\u001b[0;32m--> 311\u001b[0;31m             \u001b[0;32mreturn\u001b[0m \u001b[0mfunc\u001b[0m\u001b[0;34m(\u001b[0m\u001b[0;34m*\u001b[0m\u001b[0margs\u001b[0m\u001b[0;34m,\u001b[0m \u001b[0;34m**\u001b[0m\u001b[0mkwargs\u001b[0m\u001b[0;34m)\u001b[0m\u001b[0;34m\u001b[0m\u001b[0;34m\u001b[0m\u001b[0m\n\u001b[0m\u001b[1;32m    312\u001b[0m \u001b[0;34m\u001b[0m\u001b[0m\n\u001b[1;32m    313\u001b[0m         \u001b[0;32mreturn\u001b[0m \u001b[0mwrapper\u001b[0m\u001b[0;34m\u001b[0m\u001b[0;34m\u001b[0m\u001b[0m\n",
      "\u001b[0;32m~/opt/anaconda3/lib/python3.9/site-packages/pandas/io/parsers/readers.py\u001b[0m in \u001b[0;36mread_csv\u001b[0;34m(filepath_or_buffer, sep, delimiter, header, names, index_col, usecols, squeeze, prefix, mangle_dupe_cols, dtype, engine, converters, true_values, false_values, skipinitialspace, skiprows, skipfooter, nrows, na_values, keep_default_na, na_filter, verbose, skip_blank_lines, parse_dates, infer_datetime_format, keep_date_col, date_parser, dayfirst, cache_dates, iterator, chunksize, compression, thousands, decimal, lineterminator, quotechar, quoting, doublequote, escapechar, comment, encoding, encoding_errors, dialect, error_bad_lines, warn_bad_lines, on_bad_lines, delim_whitespace, low_memory, memory_map, float_precision, storage_options)\u001b[0m\n\u001b[1;32m    584\u001b[0m     \u001b[0mkwds\u001b[0m\u001b[0;34m.\u001b[0m\u001b[0mupdate\u001b[0m\u001b[0;34m(\u001b[0m\u001b[0mkwds_defaults\u001b[0m\u001b[0;34m)\u001b[0m\u001b[0;34m\u001b[0m\u001b[0;34m\u001b[0m\u001b[0m\n\u001b[1;32m    585\u001b[0m \u001b[0;34m\u001b[0m\u001b[0m\n\u001b[0;32m--> 586\u001b[0;31m     \u001b[0;32mreturn\u001b[0m \u001b[0m_read\u001b[0m\u001b[0;34m(\u001b[0m\u001b[0mfilepath_or_buffer\u001b[0m\u001b[0;34m,\u001b[0m \u001b[0mkwds\u001b[0m\u001b[0;34m)\u001b[0m\u001b[0;34m\u001b[0m\u001b[0;34m\u001b[0m\u001b[0m\n\u001b[0m\u001b[1;32m    587\u001b[0m \u001b[0;34m\u001b[0m\u001b[0m\n\u001b[1;32m    588\u001b[0m \u001b[0;34m\u001b[0m\u001b[0m\n",
      "\u001b[0;32m~/opt/anaconda3/lib/python3.9/site-packages/pandas/io/parsers/readers.py\u001b[0m in \u001b[0;36m_read\u001b[0;34m(filepath_or_buffer, kwds)\u001b[0m\n\u001b[1;32m    486\u001b[0m \u001b[0;34m\u001b[0m\u001b[0m\n\u001b[1;32m    487\u001b[0m     \u001b[0;32mwith\u001b[0m \u001b[0mparser\u001b[0m\u001b[0;34m:\u001b[0m\u001b[0;34m\u001b[0m\u001b[0;34m\u001b[0m\u001b[0m\n\u001b[0;32m--> 488\u001b[0;31m         \u001b[0;32mreturn\u001b[0m \u001b[0mparser\u001b[0m\u001b[0;34m.\u001b[0m\u001b[0mread\u001b[0m\u001b[0;34m(\u001b[0m\u001b[0mnrows\u001b[0m\u001b[0;34m)\u001b[0m\u001b[0;34m\u001b[0m\u001b[0;34m\u001b[0m\u001b[0m\n\u001b[0m\u001b[1;32m    489\u001b[0m \u001b[0;34m\u001b[0m\u001b[0m\n\u001b[1;32m    490\u001b[0m \u001b[0;34m\u001b[0m\u001b[0m\n",
      "\u001b[0;32m~/opt/anaconda3/lib/python3.9/site-packages/pandas/io/parsers/readers.py\u001b[0m in \u001b[0;36mread\u001b[0;34m(self, nrows)\u001b[0m\n\u001b[1;32m   1045\u001b[0m     \u001b[0;32mdef\u001b[0m \u001b[0mread\u001b[0m\u001b[0;34m(\u001b[0m\u001b[0mself\u001b[0m\u001b[0;34m,\u001b[0m \u001b[0mnrows\u001b[0m\u001b[0;34m=\u001b[0m\u001b[0;32mNone\u001b[0m\u001b[0;34m)\u001b[0m\u001b[0;34m:\u001b[0m\u001b[0;34m\u001b[0m\u001b[0;34m\u001b[0m\u001b[0m\n\u001b[1;32m   1046\u001b[0m         \u001b[0mnrows\u001b[0m \u001b[0;34m=\u001b[0m \u001b[0mvalidate_integer\u001b[0m\u001b[0;34m(\u001b[0m\u001b[0;34m\"nrows\"\u001b[0m\u001b[0;34m,\u001b[0m \u001b[0mnrows\u001b[0m\u001b[0;34m)\u001b[0m\u001b[0;34m\u001b[0m\u001b[0;34m\u001b[0m\u001b[0m\n\u001b[0;32m-> 1047\u001b[0;31m         \u001b[0mindex\u001b[0m\u001b[0;34m,\u001b[0m \u001b[0mcolumns\u001b[0m\u001b[0;34m,\u001b[0m \u001b[0mcol_dict\u001b[0m \u001b[0;34m=\u001b[0m \u001b[0mself\u001b[0m\u001b[0;34m.\u001b[0m\u001b[0m_engine\u001b[0m\u001b[0;34m.\u001b[0m\u001b[0mread\u001b[0m\u001b[0;34m(\u001b[0m\u001b[0mnrows\u001b[0m\u001b[0;34m)\u001b[0m\u001b[0;34m\u001b[0m\u001b[0;34m\u001b[0m\u001b[0m\n\u001b[0m\u001b[1;32m   1048\u001b[0m \u001b[0;34m\u001b[0m\u001b[0m\n\u001b[1;32m   1049\u001b[0m         \u001b[0;32mif\u001b[0m \u001b[0mindex\u001b[0m \u001b[0;32mis\u001b[0m \u001b[0;32mNone\u001b[0m\u001b[0;34m:\u001b[0m\u001b[0;34m\u001b[0m\u001b[0;34m\u001b[0m\u001b[0m\n",
      "\u001b[0;32m~/opt/anaconda3/lib/python3.9/site-packages/pandas/io/parsers/c_parser_wrapper.py\u001b[0m in \u001b[0;36mread\u001b[0;34m(self, nrows)\u001b[0m\n\u001b[1;32m    221\u001b[0m         \u001b[0;32mtry\u001b[0m\u001b[0;34m:\u001b[0m\u001b[0;34m\u001b[0m\u001b[0;34m\u001b[0m\u001b[0m\n\u001b[1;32m    222\u001b[0m             \u001b[0;32mif\u001b[0m \u001b[0mself\u001b[0m\u001b[0;34m.\u001b[0m\u001b[0mlow_memory\u001b[0m\u001b[0;34m:\u001b[0m\u001b[0;34m\u001b[0m\u001b[0;34m\u001b[0m\u001b[0m\n\u001b[0;32m--> 223\u001b[0;31m                 \u001b[0mchunks\u001b[0m \u001b[0;34m=\u001b[0m \u001b[0mself\u001b[0m\u001b[0;34m.\u001b[0m\u001b[0m_reader\u001b[0m\u001b[0;34m.\u001b[0m\u001b[0mread_low_memory\u001b[0m\u001b[0;34m(\u001b[0m\u001b[0mnrows\u001b[0m\u001b[0;34m)\u001b[0m\u001b[0;34m\u001b[0m\u001b[0;34m\u001b[0m\u001b[0m\n\u001b[0m\u001b[1;32m    224\u001b[0m                 \u001b[0;31m# destructive to chunks\u001b[0m\u001b[0;34m\u001b[0m\u001b[0;34m\u001b[0m\u001b[0m\n\u001b[1;32m    225\u001b[0m                 \u001b[0mdata\u001b[0m \u001b[0;34m=\u001b[0m \u001b[0m_concatenate_chunks\u001b[0m\u001b[0;34m(\u001b[0m\u001b[0mchunks\u001b[0m\u001b[0;34m)\u001b[0m\u001b[0;34m\u001b[0m\u001b[0;34m\u001b[0m\u001b[0m\n",
      "\u001b[0;32m~/opt/anaconda3/lib/python3.9/site-packages/pandas/_libs/parsers.pyx\u001b[0m in \u001b[0;36mpandas._libs.parsers.TextReader.read_low_memory\u001b[0;34m()\u001b[0m\n",
      "\u001b[0;32m~/opt/anaconda3/lib/python3.9/site-packages/pandas/_libs/parsers.pyx\u001b[0m in \u001b[0;36mpandas._libs.parsers.TextReader._read_rows\u001b[0;34m()\u001b[0m\n",
      "\u001b[0;32m~/opt/anaconda3/lib/python3.9/site-packages/pandas/_libs/parsers.pyx\u001b[0m in \u001b[0;36mpandas._libs.parsers.TextReader._tokenize_rows\u001b[0;34m()\u001b[0m\n",
      "\u001b[0;32m~/opt/anaconda3/lib/python3.9/site-packages/pandas/_libs/parsers.pyx\u001b[0m in \u001b[0;36mpandas._libs.parsers.raise_parser_error\u001b[0;34m()\u001b[0m\n",
      "\u001b[0;31mUnicodeDecodeError\u001b[0m: 'utf-8' codec can't decode byte 0xa0 in position 6558: invalid start byte"
     ]
    }
   ],
   "source": [
    "df_rt_reviews = pd.read_csv(\"data/rt.reviews.tsv.gz\", sep='\\t')\n",
    "df_rt_reviews.head()"
   ]
  },
  {
   "cell_type": "code",
   "execution_count": null,
   "id": "5e46ebe8",
   "metadata": {},
   "outputs": [],
   "source": []
  },
  {
   "cell_type": "code",
   "execution_count": null,
   "id": "73fc49d7",
   "metadata": {},
   "outputs": [],
   "source": []
  },
  {
   "cell_type": "code",
   "execution_count": 5,
   "id": "e8a8c356",
   "metadata": {},
   "outputs": [
    {
     "ename": "NameError",
     "evalue": "name 'rt' is not defined",
     "output_type": "error",
     "traceback": [
      "\u001b[0;31m---------------------------------------------------------------------------\u001b[0m",
      "\u001b[0;31mNameError\u001b[0m                                 Traceback (most recent call last)",
      "\u001b[0;32m/var/folders/ym/96mfpf3d23zg0wktdpp39dgr0000gp/T/ipykernel_2703/4243897684.py\u001b[0m in \u001b[0;36m<module>\u001b[0;34m\u001b[0m\n\u001b[0;32m----> 1\u001b[0;31m \u001b[0mrt\u001b[0m\u001b[0;34m.\u001b[0m\u001b[0mreviews\u001b[0m\u001b[0;34m.\u001b[0m\u001b[0mtsv\u001b[0m\u001b[0;34m.\u001b[0m\u001b[0mgz\u001b[0m\u001b[0;34m\u001b[0m\u001b[0;34m\u001b[0m\u001b[0m\n\u001b[0m",
      "\u001b[0;31mNameError\u001b[0m: name 'rt' is not defined"
     ]
    }
   ],
   "source": [
    "rt.reviews.tsv.gz"
   ]
  },
  {
   "cell_type": "code",
   "execution_count": null,
   "id": "816dab3e",
   "metadata": {},
   "outputs": [],
   "source": [
    "tn.movie_budgets.csv.gz"
   ]
  },
  {
   "cell_type": "code",
   "execution_count": 6,
   "id": "b0931da0",
   "metadata": {},
   "outputs": [
    {
     "data": {
      "text/html": [
       "<div>\n",
       "<style scoped>\n",
       "    .dataframe tbody tr th:only-of-type {\n",
       "        vertical-align: middle;\n",
       "    }\n",
       "\n",
       "    .dataframe tbody tr th {\n",
       "        vertical-align: top;\n",
       "    }\n",
       "\n",
       "    .dataframe thead th {\n",
       "        text-align: right;\n",
       "    }\n",
       "</style>\n",
       "<table border=\"1\" class=\"dataframe\">\n",
       "  <thead>\n",
       "    <tr style=\"text-align: right;\">\n",
       "      <th></th>\n",
       "      <th>id</th>\n",
       "      <th>release_date</th>\n",
       "      <th>movie</th>\n",
       "      <th>production_budget</th>\n",
       "      <th>domestic_gross</th>\n",
       "      <th>worldwide_gross</th>\n",
       "    </tr>\n",
       "  </thead>\n",
       "  <tbody>\n",
       "    <tr>\n",
       "      <th>0</th>\n",
       "      <td>1</td>\n",
       "      <td>Dec 18, 2009</td>\n",
       "      <td>Avatar</td>\n",
       "      <td>$425,000,000</td>\n",
       "      <td>$760,507,625</td>\n",
       "      <td>$2,776,345,279</td>\n",
       "    </tr>\n",
       "    <tr>\n",
       "      <th>1</th>\n",
       "      <td>2</td>\n",
       "      <td>May 20, 2011</td>\n",
       "      <td>Pirates of the Caribbean: On Stranger Tides</td>\n",
       "      <td>$410,600,000</td>\n",
       "      <td>$241,063,875</td>\n",
       "      <td>$1,045,663,875</td>\n",
       "    </tr>\n",
       "    <tr>\n",
       "      <th>2</th>\n",
       "      <td>3</td>\n",
       "      <td>Jun 7, 2019</td>\n",
       "      <td>Dark Phoenix</td>\n",
       "      <td>$350,000,000</td>\n",
       "      <td>$42,762,350</td>\n",
       "      <td>$149,762,350</td>\n",
       "    </tr>\n",
       "    <tr>\n",
       "      <th>3</th>\n",
       "      <td>4</td>\n",
       "      <td>May 1, 2015</td>\n",
       "      <td>Avengers: Age of Ultron</td>\n",
       "      <td>$330,600,000</td>\n",
       "      <td>$459,005,868</td>\n",
       "      <td>$1,403,013,963</td>\n",
       "    </tr>\n",
       "    <tr>\n",
       "      <th>4</th>\n",
       "      <td>5</td>\n",
       "      <td>Dec 15, 2017</td>\n",
       "      <td>Star Wars Ep. VIII: The Last Jedi</td>\n",
       "      <td>$317,000,000</td>\n",
       "      <td>$620,181,382</td>\n",
       "      <td>$1,316,721,747</td>\n",
       "    </tr>\n",
       "  </tbody>\n",
       "</table>\n",
       "</div>"
      ],
      "text/plain": [
       "   id  release_date                                        movie  \\\n",
       "0   1  Dec 18, 2009                                       Avatar   \n",
       "1   2  May 20, 2011  Pirates of the Caribbean: On Stranger Tides   \n",
       "2   3   Jun 7, 2019                                 Dark Phoenix   \n",
       "3   4   May 1, 2015                      Avengers: Age of Ultron   \n",
       "4   5  Dec 15, 2017            Star Wars Ep. VIII: The Last Jedi   \n",
       "\n",
       "  production_budget domestic_gross worldwide_gross  \n",
       "0      $425,000,000   $760,507,625  $2,776,345,279  \n",
       "1      $410,600,000   $241,063,875  $1,045,663,875  \n",
       "2      $350,000,000    $42,762,350    $149,762,350  \n",
       "3      $330,600,000   $459,005,868  $1,403,013,963  \n",
       "4      $317,000,000   $620,181,382  $1,316,721,747  "
      ]
     },
     "execution_count": 6,
     "metadata": {},
     "output_type": "execute_result"
    }
   ],
   "source": [
    "tn_budgets_df = pd.read_csv(\"data/tn.movie_budgets.csv.gz\")\n",
    "tn_budgets_df.head()"
   ]
  },
  {
   "cell_type": "code",
   "execution_count": null,
   "id": "80d12c4f",
   "metadata": {},
   "outputs": [],
   "source": [
    "tn_budgets_df.info()"
   ]
  },
  {
   "cell_type": "code",
   "execution_count": 39,
   "id": "0cf63b15",
   "metadata": {},
   "outputs": [
    {
     "name": "stdout",
     "output_type": "stream",
     "text": [
      "<class 'pandas.core.frame.DataFrame'>\n",
      "Int64Index: 4682 entries, 0 to 4681\n",
      "Data columns (total 17 columns):\n",
      " #   Column             Non-Null Count  Dtype \n",
      "---  ------             --------------  ----- \n",
      " 0   id                 4682 non-null   int64 \n",
      " 1   synopsis           4508 non-null   object\n",
      " 2   rating             4624 non-null   object\n",
      " 3   genre              4624 non-null   object\n",
      " 4   director           3874 non-null   object\n",
      " 5   writer             3412 non-null   object\n",
      " 6   theater_date       3299 non-null   object\n",
      " 7   dvd_date           3299 non-null   object\n",
      " 8   currency           1099 non-null   object\n",
      " 9   box_office         1099 non-null   object\n",
      " 10  runtime            4508 non-null   object\n",
      " 11  studio             1563 non-null   object\n",
      " 12  release_date       4682 non-null   object\n",
      " 13  movie              4682 non-null   object\n",
      " 14  production_budget  4682 non-null   object\n",
      " 15  domestic_gross     4682 non-null   object\n",
      " 16  worldwide_gross    4682 non-null   object\n",
      "dtypes: int64(1), object(16)\n",
      "memory usage: 658.4+ KB\n"
     ]
    }
   ],
   "source": [
    "df_1 = pd.merge(left=df_rt, right=tn_budgets_df, on=\"id\")\n",
    "df_1.info()"
   ]
  },
  {
   "cell_type": "code",
   "execution_count": 40,
   "id": "d94dfc45",
   "metadata": {
    "scrolled": true
   },
   "outputs": [
    {
     "data": {
      "text/html": [
       "<div>\n",
       "<style scoped>\n",
       "    .dataframe tbody tr th:only-of-type {\n",
       "        vertical-align: middle;\n",
       "    }\n",
       "\n",
       "    .dataframe tbody tr th {\n",
       "        vertical-align: top;\n",
       "    }\n",
       "\n",
       "    .dataframe thead th {\n",
       "        text-align: right;\n",
       "    }\n",
       "</style>\n",
       "<table border=\"1\" class=\"dataframe\">\n",
       "  <thead>\n",
       "    <tr style=\"text-align: right;\">\n",
       "      <th></th>\n",
       "      <th>id</th>\n",
       "      <th>synopsis</th>\n",
       "      <th>rating</th>\n",
       "      <th>genre</th>\n",
       "      <th>director</th>\n",
       "      <th>writer</th>\n",
       "      <th>theater_date</th>\n",
       "      <th>dvd_date</th>\n",
       "      <th>currency</th>\n",
       "      <th>box_office</th>\n",
       "      <th>runtime</th>\n",
       "      <th>studio</th>\n",
       "      <th>release_date</th>\n",
       "      <th>movie</th>\n",
       "      <th>production_budget</th>\n",
       "      <th>domestic_gross</th>\n",
       "      <th>worldwide_gross</th>\n",
       "    </tr>\n",
       "  </thead>\n",
       "  <tbody>\n",
       "    <tr>\n",
       "      <th>0</th>\n",
       "      <td>1</td>\n",
       "      <td>This gritty, fast-paced, and innovative police...</td>\n",
       "      <td>R</td>\n",
       "      <td>Action and Adventure|Classics|Drama</td>\n",
       "      <td>William Friedkin</td>\n",
       "      <td>Ernest Tidyman</td>\n",
       "      <td>Oct 9, 1971</td>\n",
       "      <td>Sep 25, 2001</td>\n",
       "      <td>NaN</td>\n",
       "      <td>NaN</td>\n",
       "      <td>104 minutes</td>\n",
       "      <td>NaN</td>\n",
       "      <td>Dec 18, 2009</td>\n",
       "      <td>Avatar</td>\n",
       "      <td>$425,000,000</td>\n",
       "      <td>$760,507,625</td>\n",
       "      <td>$2,776,345,279</td>\n",
       "    </tr>\n",
       "    <tr>\n",
       "      <th>1</th>\n",
       "      <td>1</td>\n",
       "      <td>This gritty, fast-paced, and innovative police...</td>\n",
       "      <td>R</td>\n",
       "      <td>Action and Adventure|Classics|Drama</td>\n",
       "      <td>William Friedkin</td>\n",
       "      <td>Ernest Tidyman</td>\n",
       "      <td>Oct 9, 1971</td>\n",
       "      <td>Sep 25, 2001</td>\n",
       "      <td>NaN</td>\n",
       "      <td>NaN</td>\n",
       "      <td>104 minutes</td>\n",
       "      <td>NaN</td>\n",
       "      <td>May 29, 2009</td>\n",
       "      <td>Up</td>\n",
       "      <td>$175,000,000</td>\n",
       "      <td>$293,004,164</td>\n",
       "      <td>$731,463,377</td>\n",
       "    </tr>\n",
       "    <tr>\n",
       "      <th>2</th>\n",
       "      <td>1</td>\n",
       "      <td>This gritty, fast-paced, and innovative police...</td>\n",
       "      <td>R</td>\n",
       "      <td>Action and Adventure|Classics|Drama</td>\n",
       "      <td>William Friedkin</td>\n",
       "      <td>Ernest Tidyman</td>\n",
       "      <td>Oct 9, 1971</td>\n",
       "      <td>Sep 25, 2001</td>\n",
       "      <td>NaN</td>\n",
       "      <td>NaN</td>\n",
       "      <td>104 minutes</td>\n",
       "      <td>NaN</td>\n",
       "      <td>Mar 7, 2014</td>\n",
       "      <td>Mr. Peabody &amp; Sherman</td>\n",
       "      <td>$145,000,000</td>\n",
       "      <td>$111,506,430</td>\n",
       "      <td>$269,806,430</td>\n",
       "    </tr>\n",
       "    <tr>\n",
       "      <th>3</th>\n",
       "      <td>1</td>\n",
       "      <td>This gritty, fast-paced, and innovative police...</td>\n",
       "      <td>R</td>\n",
       "      <td>Action and Adventure|Classics|Drama</td>\n",
       "      <td>William Friedkin</td>\n",
       "      <td>Ernest Tidyman</td>\n",
       "      <td>Oct 9, 1971</td>\n",
       "      <td>Sep 25, 2001</td>\n",
       "      <td>NaN</td>\n",
       "      <td>NaN</td>\n",
       "      <td>104 minutes</td>\n",
       "      <td>NaN</td>\n",
       "      <td>Dec 17, 2010</td>\n",
       "      <td>How Do You Know?</td>\n",
       "      <td>$120,000,000</td>\n",
       "      <td>$30,212,620</td>\n",
       "      <td>$49,628,177</td>\n",
       "    </tr>\n",
       "    <tr>\n",
       "      <th>4</th>\n",
       "      <td>1</td>\n",
       "      <td>This gritty, fast-paced, and innovative police...</td>\n",
       "      <td>R</td>\n",
       "      <td>Action and Adventure|Classics|Drama</td>\n",
       "      <td>William Friedkin</td>\n",
       "      <td>Ernest Tidyman</td>\n",
       "      <td>Oct 9, 1971</td>\n",
       "      <td>Sep 25, 2001</td>\n",
       "      <td>NaN</td>\n",
       "      <td>NaN</td>\n",
       "      <td>104 minutes</td>\n",
       "      <td>NaN</td>\n",
       "      <td>Dec 11, 2015</td>\n",
       "      <td>In the Heart of the Sea</td>\n",
       "      <td>$100,000,000</td>\n",
       "      <td>$25,020,758</td>\n",
       "      <td>$89,693,309</td>\n",
       "    </tr>\n",
       "  </tbody>\n",
       "</table>\n",
       "</div>"
      ],
      "text/plain": [
       "   id                                           synopsis rating  \\\n",
       "0   1  This gritty, fast-paced, and innovative police...      R   \n",
       "1   1  This gritty, fast-paced, and innovative police...      R   \n",
       "2   1  This gritty, fast-paced, and innovative police...      R   \n",
       "3   1  This gritty, fast-paced, and innovative police...      R   \n",
       "4   1  This gritty, fast-paced, and innovative police...      R   \n",
       "\n",
       "                                 genre          director          writer  \\\n",
       "0  Action and Adventure|Classics|Drama  William Friedkin  Ernest Tidyman   \n",
       "1  Action and Adventure|Classics|Drama  William Friedkin  Ernest Tidyman   \n",
       "2  Action and Adventure|Classics|Drama  William Friedkin  Ernest Tidyman   \n",
       "3  Action and Adventure|Classics|Drama  William Friedkin  Ernest Tidyman   \n",
       "4  Action and Adventure|Classics|Drama  William Friedkin  Ernest Tidyman   \n",
       "\n",
       "  theater_date      dvd_date currency box_office      runtime studio  \\\n",
       "0  Oct 9, 1971  Sep 25, 2001      NaN        NaN  104 minutes    NaN   \n",
       "1  Oct 9, 1971  Sep 25, 2001      NaN        NaN  104 minutes    NaN   \n",
       "2  Oct 9, 1971  Sep 25, 2001      NaN        NaN  104 minutes    NaN   \n",
       "3  Oct 9, 1971  Sep 25, 2001      NaN        NaN  104 minutes    NaN   \n",
       "4  Oct 9, 1971  Sep 25, 2001      NaN        NaN  104 minutes    NaN   \n",
       "\n",
       "   release_date                    movie production_budget domestic_gross  \\\n",
       "0  Dec 18, 2009                   Avatar      $425,000,000   $760,507,625   \n",
       "1  May 29, 2009                       Up      $175,000,000   $293,004,164   \n",
       "2   Mar 7, 2014    Mr. Peabody & Sherman      $145,000,000   $111,506,430   \n",
       "3  Dec 17, 2010         How Do You Know?      $120,000,000    $30,212,620   \n",
       "4  Dec 11, 2015  In the Heart of the Sea      $100,000,000    $25,020,758   \n",
       "\n",
       "  worldwide_gross  \n",
       "0  $2,776,345,279  \n",
       "1    $731,463,377  \n",
       "2    $269,806,430  \n",
       "3     $49,628,177  \n",
       "4     $89,693,309  "
      ]
     },
     "execution_count": 40,
     "metadata": {},
     "output_type": "execute_result"
    }
   ],
   "source": [
    "df_1.head()"
   ]
  },
  {
   "cell_type": "code",
   "execution_count": null,
   "id": "ab44a2b3",
   "metadata": {},
   "outputs": [],
   "source": []
  },
  {
   "cell_type": "code",
   "execution_count": null,
   "id": "bd72cbb2",
   "metadata": {},
   "outputs": [],
   "source": []
  },
  {
   "cell_type": "code",
   "execution_count": null,
   "id": "cf95ee72",
   "metadata": {},
   "outputs": [],
   "source": []
  },
  {
   "cell_type": "code",
   "execution_count": null,
   "id": "573bc13c",
   "metadata": {},
   "outputs": [],
   "source": [
    "Tn.moviebudgets"
   ]
  },
  {
   "cell_type": "code",
   "execution_count": 7,
   "id": "f248cae8",
   "metadata": {
    "scrolled": true
   },
   "outputs": [
    {
     "name": "stdout",
     "output_type": "stream",
     "text": [
      "<class 'pandas.core.frame.DataFrame'>\n",
      "RangeIndex: 3387 entries, 0 to 3386\n",
      "Data columns (total 5 columns):\n",
      " #   Column          Non-Null Count  Dtype  \n",
      "---  ------          --------------  -----  \n",
      " 0   title           3387 non-null   object \n",
      " 1   studio          3382 non-null   object \n",
      " 2   domestic_gross  3359 non-null   float64\n",
      " 3   foreign_gross   2037 non-null   object \n",
      " 4   year            3387 non-null   int64  \n",
      "dtypes: float64(1), int64(1), object(3)\n",
      "memory usage: 132.4+ KB\n"
     ]
    }
   ],
   "source": [
    "df.info()"
   ]
  },
  {
   "cell_type": "code",
   "execution_count": 8,
   "id": "8b218e4a",
   "metadata": {},
   "outputs": [
    {
     "data": {
      "text/html": [
       "<div>\n",
       "<style scoped>\n",
       "    .dataframe tbody tr th:only-of-type {\n",
       "        vertical-align: middle;\n",
       "    }\n",
       "\n",
       "    .dataframe tbody tr th {\n",
       "        vertical-align: top;\n",
       "    }\n",
       "\n",
       "    .dataframe thead th {\n",
       "        text-align: right;\n",
       "    }\n",
       "</style>\n",
       "<table border=\"1\" class=\"dataframe\">\n",
       "  <thead>\n",
       "    <tr style=\"text-align: right;\">\n",
       "      <th></th>\n",
       "      <th>domestic_gross</th>\n",
       "      <th>year</th>\n",
       "    </tr>\n",
       "  </thead>\n",
       "  <tbody>\n",
       "    <tr>\n",
       "      <th>count</th>\n",
       "      <td>3.359000e+03</td>\n",
       "      <td>3387.000000</td>\n",
       "    </tr>\n",
       "    <tr>\n",
       "      <th>mean</th>\n",
       "      <td>2.874585e+07</td>\n",
       "      <td>2013.958075</td>\n",
       "    </tr>\n",
       "    <tr>\n",
       "      <th>std</th>\n",
       "      <td>6.698250e+07</td>\n",
       "      <td>2.478141</td>\n",
       "    </tr>\n",
       "    <tr>\n",
       "      <th>min</th>\n",
       "      <td>1.000000e+02</td>\n",
       "      <td>2010.000000</td>\n",
       "    </tr>\n",
       "    <tr>\n",
       "      <th>25%</th>\n",
       "      <td>1.200000e+05</td>\n",
       "      <td>2012.000000</td>\n",
       "    </tr>\n",
       "    <tr>\n",
       "      <th>50%</th>\n",
       "      <td>1.400000e+06</td>\n",
       "      <td>2014.000000</td>\n",
       "    </tr>\n",
       "    <tr>\n",
       "      <th>75%</th>\n",
       "      <td>2.790000e+07</td>\n",
       "      <td>2016.000000</td>\n",
       "    </tr>\n",
       "    <tr>\n",
       "      <th>max</th>\n",
       "      <td>9.367000e+08</td>\n",
       "      <td>2018.000000</td>\n",
       "    </tr>\n",
       "  </tbody>\n",
       "</table>\n",
       "</div>"
      ],
      "text/plain": [
       "       domestic_gross         year\n",
       "count    3.359000e+03  3387.000000\n",
       "mean     2.874585e+07  2013.958075\n",
       "std      6.698250e+07     2.478141\n",
       "min      1.000000e+02  2010.000000\n",
       "25%      1.200000e+05  2012.000000\n",
       "50%      1.400000e+06  2014.000000\n",
       "75%      2.790000e+07  2016.000000\n",
       "max      9.367000e+08  2018.000000"
      ]
     },
     "execution_count": 8,
     "metadata": {},
     "output_type": "execute_result"
    }
   ],
   "source": [
    "df.describe()"
   ]
  },
  {
   "cell_type": "markdown",
   "id": "d6f07627",
   "metadata": {},
   "source": [
    "##### sqlite3 for sql dataset"
   ]
  },
  {
   "cell_type": "code",
   "execution_count": 9,
   "id": "7cfdd275",
   "metadata": {},
   "outputs": [
    {
     "data": {
      "text/plain": [
       "'2.6.0'"
      ]
     },
     "execution_count": 9,
     "metadata": {},
     "output_type": "execute_result"
    }
   ],
   "source": [
    "#make sure sqlite3 is downloaded and working\n",
    "#make sure sqlite db file has been unzipped\n",
    "import sqlite3\n",
    "sqlite3.version"
   ]
  },
  {
   "cell_type": "code",
   "execution_count": 10,
   "id": "5b427072",
   "metadata": {},
   "outputs": [],
   "source": [
    "# Create new Database"
   ]
  },
  {
   "cell_type": "code",
   "execution_count": 11,
   "id": "1a32fcc4",
   "metadata": {},
   "outputs": [],
   "source": [
    "# Instantiate a connection\n",
    "connection = sqlite3.connect(\"data/im.db\")"
   ]
  },
  {
   "cell_type": "code",
   "execution_count": 12,
   "id": "02debedd",
   "metadata": {},
   "outputs": [],
   "source": [
    "# Instantiate a cursor\n",
    "cursor = connection.cursor()"
   ]
  },
  {
   "cell_type": "code",
   "execution_count": 13,
   "id": "249d31e8",
   "metadata": {},
   "outputs": [
    {
     "name": "stdout",
     "output_type": "stream",
     "text": [
      "[('movie_basics',), ('directors',), ('known_for',), ('movie_akas',), ('movie_ratings',), ('persons',), ('principals',), ('writers',)]\n"
     ]
    }
   ],
   "source": [
    "# sql query for list of tables\n",
    "sql_query = \"\"\"SELECT name FROM sqlite_master WHERE type='table';\"\"\"\n",
    "cursor.execute(sql_query)\n",
    "print(cursor.fetchall())"
   ]
  },
  {
   "cell_type": "code",
   "execution_count": 14,
   "id": "c124c9af",
   "metadata": {},
   "outputs": [
    {
     "name": "stdout",
     "output_type": "stream",
     "text": [
      "[('movie_basics',), ('directors',), ('known_for',), ('movie_akas',), ('movie_ratings',), ('persons',), ('principals',), ('writers',)]\n"
     ]
    }
   ],
   "source": [
    "# a function that should provide list of tables\n",
    "def sql_fetch(con):\n",
    "    \"\"\"\n",
    "    Function that takes in a connection, and outputs a list of tables in db\n",
    "    Creates a cursor object to allow us to execute sqlite queries through Python\n",
    "    Cursor executes the query that accesses the sqlite_master file and returns table names\n",
    "    Fetch all names from query result\n",
    "    \"\"\"\n",
    "    cursorObj = con.cursor()\n",
    "    cursorObj.execute('SELECT name from sqlite_master where type= \"table\"')\n",
    "    print(cursorObj.fetchall())\n",
    "    \n",
    "sql_fetch(connection)"
   ]
  },
  {
   "cell_type": "code",
   "execution_count": 15,
   "id": "70ae5aff",
   "metadata": {},
   "outputs": [
    {
     "data": {
      "text/html": [
       "<div>\n",
       "<style scoped>\n",
       "    .dataframe tbody tr th:only-of-type {\n",
       "        vertical-align: middle;\n",
       "    }\n",
       "\n",
       "    .dataframe tbody tr th {\n",
       "        vertical-align: top;\n",
       "    }\n",
       "\n",
       "    .dataframe thead th {\n",
       "        text-align: right;\n",
       "    }\n",
       "</style>\n",
       "<table border=\"1\" class=\"dataframe\">\n",
       "  <thead>\n",
       "    <tr style=\"text-align: right;\">\n",
       "      <th></th>\n",
       "      <th>movie_id</th>\n",
       "      <th>primary_title</th>\n",
       "      <th>original_title</th>\n",
       "      <th>start_year</th>\n",
       "      <th>runtime_minutes</th>\n",
       "      <th>genres</th>\n",
       "    </tr>\n",
       "  </thead>\n",
       "  <tbody>\n",
       "    <tr>\n",
       "      <th>0</th>\n",
       "      <td>tt0063540</td>\n",
       "      <td>Sunghursh</td>\n",
       "      <td>Sunghursh</td>\n",
       "      <td>2013</td>\n",
       "      <td>175.0</td>\n",
       "      <td>Action,Crime,Drama</td>\n",
       "    </tr>\n",
       "    <tr>\n",
       "      <th>1</th>\n",
       "      <td>tt0066787</td>\n",
       "      <td>One Day Before the Rainy Season</td>\n",
       "      <td>Ashad Ka Ek Din</td>\n",
       "      <td>2019</td>\n",
       "      <td>114.0</td>\n",
       "      <td>Biography,Drama</td>\n",
       "    </tr>\n",
       "    <tr>\n",
       "      <th>2</th>\n",
       "      <td>tt0069049</td>\n",
       "      <td>The Other Side of the Wind</td>\n",
       "      <td>The Other Side of the Wind</td>\n",
       "      <td>2018</td>\n",
       "      <td>122.0</td>\n",
       "      <td>Drama</td>\n",
       "    </tr>\n",
       "    <tr>\n",
       "      <th>3</th>\n",
       "      <td>tt0069204</td>\n",
       "      <td>Sabse Bada Sukh</td>\n",
       "      <td>Sabse Bada Sukh</td>\n",
       "      <td>2018</td>\n",
       "      <td>NaN</td>\n",
       "      <td>Comedy,Drama</td>\n",
       "    </tr>\n",
       "    <tr>\n",
       "      <th>4</th>\n",
       "      <td>tt0100275</td>\n",
       "      <td>The Wandering Soap Opera</td>\n",
       "      <td>La Telenovela Errante</td>\n",
       "      <td>2017</td>\n",
       "      <td>80.0</td>\n",
       "      <td>Comedy,Drama,Fantasy</td>\n",
       "    </tr>\n",
       "  </tbody>\n",
       "</table>\n",
       "</div>"
      ],
      "text/plain": [
       "    movie_id                    primary_title              original_title  \\\n",
       "0  tt0063540                        Sunghursh                   Sunghursh   \n",
       "1  tt0066787  One Day Before the Rainy Season             Ashad Ka Ek Din   \n",
       "2  tt0069049       The Other Side of the Wind  The Other Side of the Wind   \n",
       "3  tt0069204                  Sabse Bada Sukh             Sabse Bada Sukh   \n",
       "4  tt0100275         The Wandering Soap Opera       La Telenovela Errante   \n",
       "\n",
       "   start_year  runtime_minutes                genres  \n",
       "0        2013            175.0    Action,Crime,Drama  \n",
       "1        2019            114.0       Biography,Drama  \n",
       "2        2018            122.0                 Drama  \n",
       "3        2018              NaN          Comedy,Drama  \n",
       "4        2017             80.0  Comedy,Drama,Fantasy  "
      ]
     },
     "execution_count": 15,
     "metadata": {},
     "output_type": "execute_result"
    }
   ],
   "source": [
    "# Create movie_basics_df\n",
    "movie_basics_df = pd.read_sql(\"\"\"SELECT * FROM movie_basics\"\"\",connection)\n",
    "movie_basics_df.head()"
   ]
  },
  {
   "cell_type": "code",
   "execution_count": 16,
   "id": "6d649809",
   "metadata": {},
   "outputs": [
    {
     "name": "stdout",
     "output_type": "stream",
     "text": [
      "<class 'pandas.core.frame.DataFrame'>\n",
      "RangeIndex: 146144 entries, 0 to 146143\n",
      "Data columns (total 6 columns):\n",
      " #   Column           Non-Null Count   Dtype  \n",
      "---  ------           --------------   -----  \n",
      " 0   movie_id         146144 non-null  object \n",
      " 1   primary_title    146144 non-null  object \n",
      " 2   original_title   146123 non-null  object \n",
      " 3   start_year       146144 non-null  int64  \n",
      " 4   runtime_minutes  114405 non-null  float64\n",
      " 5   genres           140736 non-null  object \n",
      "dtypes: float64(1), int64(1), object(4)\n",
      "memory usage: 6.7+ MB\n"
     ]
    }
   ],
   "source": [
    "movie_basics_df.info()"
   ]
  },
  {
   "cell_type": "code",
   "execution_count": 17,
   "id": "d35c1553",
   "metadata": {},
   "outputs": [
    {
     "data": {
      "text/html": [
       "<div>\n",
       "<style scoped>\n",
       "    .dataframe tbody tr th:only-of-type {\n",
       "        vertical-align: middle;\n",
       "    }\n",
       "\n",
       "    .dataframe tbody tr th {\n",
       "        vertical-align: top;\n",
       "    }\n",
       "\n",
       "    .dataframe thead th {\n",
       "        text-align: right;\n",
       "    }\n",
       "</style>\n",
       "<table border=\"1\" class=\"dataframe\">\n",
       "  <thead>\n",
       "    <tr style=\"text-align: right;\">\n",
       "      <th></th>\n",
       "      <th>start_year</th>\n",
       "      <th>runtime_minutes</th>\n",
       "    </tr>\n",
       "  </thead>\n",
       "  <tbody>\n",
       "    <tr>\n",
       "      <th>count</th>\n",
       "      <td>146144.000000</td>\n",
       "      <td>114405.000000</td>\n",
       "    </tr>\n",
       "    <tr>\n",
       "      <th>mean</th>\n",
       "      <td>2014.621798</td>\n",
       "      <td>86.187247</td>\n",
       "    </tr>\n",
       "    <tr>\n",
       "      <th>std</th>\n",
       "      <td>2.733583</td>\n",
       "      <td>166.360590</td>\n",
       "    </tr>\n",
       "    <tr>\n",
       "      <th>min</th>\n",
       "      <td>2010.000000</td>\n",
       "      <td>1.000000</td>\n",
       "    </tr>\n",
       "    <tr>\n",
       "      <th>25%</th>\n",
       "      <td>2012.000000</td>\n",
       "      <td>70.000000</td>\n",
       "    </tr>\n",
       "    <tr>\n",
       "      <th>50%</th>\n",
       "      <td>2015.000000</td>\n",
       "      <td>87.000000</td>\n",
       "    </tr>\n",
       "    <tr>\n",
       "      <th>75%</th>\n",
       "      <td>2017.000000</td>\n",
       "      <td>99.000000</td>\n",
       "    </tr>\n",
       "    <tr>\n",
       "      <th>max</th>\n",
       "      <td>2115.000000</td>\n",
       "      <td>51420.000000</td>\n",
       "    </tr>\n",
       "  </tbody>\n",
       "</table>\n",
       "</div>"
      ],
      "text/plain": [
       "          start_year  runtime_minutes\n",
       "count  146144.000000    114405.000000\n",
       "mean     2014.621798        86.187247\n",
       "std         2.733583       166.360590\n",
       "min      2010.000000         1.000000\n",
       "25%      2012.000000        70.000000\n",
       "50%      2015.000000        87.000000\n",
       "75%      2017.000000        99.000000\n",
       "max      2115.000000     51420.000000"
      ]
     },
     "execution_count": 17,
     "metadata": {},
     "output_type": "execute_result"
    }
   ],
   "source": [
    "movie_basics_df.describe()"
   ]
  },
  {
   "cell_type": "code",
   "execution_count": 18,
   "id": "b401b8e8",
   "metadata": {},
   "outputs": [
    {
     "data": {
      "text/html": [
       "<div>\n",
       "<style scoped>\n",
       "    .dataframe tbody tr th:only-of-type {\n",
       "        vertical-align: middle;\n",
       "    }\n",
       "\n",
       "    .dataframe tbody tr th {\n",
       "        vertical-align: top;\n",
       "    }\n",
       "\n",
       "    .dataframe thead th {\n",
       "        text-align: right;\n",
       "    }\n",
       "</style>\n",
       "<table border=\"1\" class=\"dataframe\">\n",
       "  <thead>\n",
       "    <tr style=\"text-align: right;\">\n",
       "      <th></th>\n",
       "      <th>movie_id</th>\n",
       "      <th>averagerating</th>\n",
       "      <th>numvotes</th>\n",
       "    </tr>\n",
       "  </thead>\n",
       "  <tbody>\n",
       "    <tr>\n",
       "      <th>0</th>\n",
       "      <td>tt10356526</td>\n",
       "      <td>8.3</td>\n",
       "      <td>31</td>\n",
       "    </tr>\n",
       "    <tr>\n",
       "      <th>1</th>\n",
       "      <td>tt10384606</td>\n",
       "      <td>8.9</td>\n",
       "      <td>559</td>\n",
       "    </tr>\n",
       "    <tr>\n",
       "      <th>2</th>\n",
       "      <td>tt1042974</td>\n",
       "      <td>6.4</td>\n",
       "      <td>20</td>\n",
       "    </tr>\n",
       "    <tr>\n",
       "      <th>3</th>\n",
       "      <td>tt1043726</td>\n",
       "      <td>4.2</td>\n",
       "      <td>50352</td>\n",
       "    </tr>\n",
       "    <tr>\n",
       "      <th>4</th>\n",
       "      <td>tt1060240</td>\n",
       "      <td>6.5</td>\n",
       "      <td>21</td>\n",
       "    </tr>\n",
       "  </tbody>\n",
       "</table>\n",
       "</div>"
      ],
      "text/plain": [
       "     movie_id  averagerating  numvotes\n",
       "0  tt10356526            8.3        31\n",
       "1  tt10384606            8.9       559\n",
       "2   tt1042974            6.4        20\n",
       "3   tt1043726            4.2     50352\n",
       "4   tt1060240            6.5        21"
      ]
     },
     "execution_count": 18,
     "metadata": {},
     "output_type": "execute_result"
    }
   ],
   "source": [
    "# Create moview_ratings_df with different method\n",
    "movie_ratings_df = pd.read_sql_query(\"\"\"SELECT * FROM movie_ratings\"\"\",connection)\n",
    "movie_ratings_df.head()"
   ]
  },
  {
   "cell_type": "code",
   "execution_count": 19,
   "id": "8bc32f8f",
   "metadata": {},
   "outputs": [
    {
     "name": "stdout",
     "output_type": "stream",
     "text": [
      "<class 'pandas.core.frame.DataFrame'>\n",
      "RangeIndex: 73856 entries, 0 to 73855\n",
      "Data columns (total 3 columns):\n",
      " #   Column         Non-Null Count  Dtype  \n",
      "---  ------         --------------  -----  \n",
      " 0   movie_id       73856 non-null  object \n",
      " 1   averagerating  73856 non-null  float64\n",
      " 2   numvotes       73856 non-null  int64  \n",
      "dtypes: float64(1), int64(1), object(1)\n",
      "memory usage: 1.7+ MB\n"
     ]
    }
   ],
   "source": [
    "movie_ratings_df.info()"
   ]
  },
  {
   "cell_type": "code",
   "execution_count": 20,
   "id": "ef9b5fe8",
   "metadata": {},
   "outputs": [
    {
     "data": {
      "text/html": [
       "<div>\n",
       "<style scoped>\n",
       "    .dataframe tbody tr th:only-of-type {\n",
       "        vertical-align: middle;\n",
       "    }\n",
       "\n",
       "    .dataframe tbody tr th {\n",
       "        vertical-align: top;\n",
       "    }\n",
       "\n",
       "    .dataframe thead th {\n",
       "        text-align: right;\n",
       "    }\n",
       "</style>\n",
       "<table border=\"1\" class=\"dataframe\">\n",
       "  <thead>\n",
       "    <tr style=\"text-align: right;\">\n",
       "      <th></th>\n",
       "      <th>averagerating</th>\n",
       "      <th>numvotes</th>\n",
       "    </tr>\n",
       "  </thead>\n",
       "  <tbody>\n",
       "    <tr>\n",
       "      <th>count</th>\n",
       "      <td>73856.000000</td>\n",
       "      <td>7.385600e+04</td>\n",
       "    </tr>\n",
       "    <tr>\n",
       "      <th>mean</th>\n",
       "      <td>6.332729</td>\n",
       "      <td>3.523662e+03</td>\n",
       "    </tr>\n",
       "    <tr>\n",
       "      <th>std</th>\n",
       "      <td>1.474978</td>\n",
       "      <td>3.029402e+04</td>\n",
       "    </tr>\n",
       "    <tr>\n",
       "      <th>min</th>\n",
       "      <td>1.000000</td>\n",
       "      <td>5.000000e+00</td>\n",
       "    </tr>\n",
       "    <tr>\n",
       "      <th>25%</th>\n",
       "      <td>5.500000</td>\n",
       "      <td>1.400000e+01</td>\n",
       "    </tr>\n",
       "    <tr>\n",
       "      <th>50%</th>\n",
       "      <td>6.500000</td>\n",
       "      <td>4.900000e+01</td>\n",
       "    </tr>\n",
       "    <tr>\n",
       "      <th>75%</th>\n",
       "      <td>7.400000</td>\n",
       "      <td>2.820000e+02</td>\n",
       "    </tr>\n",
       "    <tr>\n",
       "      <th>max</th>\n",
       "      <td>10.000000</td>\n",
       "      <td>1.841066e+06</td>\n",
       "    </tr>\n",
       "  </tbody>\n",
       "</table>\n",
       "</div>"
      ],
      "text/plain": [
       "       averagerating      numvotes\n",
       "count   73856.000000  7.385600e+04\n",
       "mean        6.332729  3.523662e+03\n",
       "std         1.474978  3.029402e+04\n",
       "min         1.000000  5.000000e+00\n",
       "25%         5.500000  1.400000e+01\n",
       "50%         6.500000  4.900000e+01\n",
       "75%         7.400000  2.820000e+02\n",
       "max        10.000000  1.841066e+06"
      ]
     },
     "execution_count": 20,
     "metadata": {},
     "output_type": "execute_result"
    }
   ],
   "source": [
    "movie_ratings_df.describe()"
   ]
  },
  {
   "cell_type": "markdown",
   "id": "2ac2d587",
   "metadata": {},
   "source": [
    "#### Cleaning"
   ]
  },
  {
   "cell_type": "code",
   "execution_count": 21,
   "id": "89dd0f13",
   "metadata": {},
   "outputs": [],
   "source": [
    "# Dataframes:\n",
    "\n",
    "#   df\n",
    "#   movie_basics_df\n",
    "#   movie_ratings_df"
   ]
  },
  {
   "cell_type": "code",
   "execution_count": 22,
   "id": "a995d5d1",
   "metadata": {},
   "outputs": [
    {
     "name": "stdout",
     "output_type": "stream",
     "text": [
      "False\n",
      "False\n"
     ]
    }
   ],
   "source": [
    "# Check for duplicates\n",
    "print(movie_basics_df.duplicated().any())\n",
    "print(movie_ratings_df.duplicated().any())"
   ]
  },
  {
   "cell_type": "code",
   "execution_count": 23,
   "id": "a6c8440b",
   "metadata": {},
   "outputs": [
    {
     "data": {
      "text/plain": [
       "movie_id           0\n",
       "primary_title      0\n",
       "original_title     0\n",
       "start_year         0\n",
       "runtime_minutes    0\n",
       "genres             0\n",
       "dtype: int64"
      ]
     },
     "execution_count": 23,
     "metadata": {},
     "output_type": "execute_result"
    }
   ],
   "source": [
    "# Return the count of placeholder values\n",
    "movie_basics_df.isin(['?', '#', 'NaN', 'null', 'N/A', '-', 0]).sum()"
   ]
  },
  {
   "cell_type": "code",
   "execution_count": 24,
   "id": "74557da0",
   "metadata": {
    "scrolled": true
   },
   "outputs": [
    {
     "data": {
      "text/plain": [
       "movie_id         0\n",
       "averagerating    0\n",
       "numvotes         0\n",
       "dtype: int64"
      ]
     },
     "execution_count": 24,
     "metadata": {},
     "output_type": "execute_result"
    }
   ],
   "source": [
    "# Return the count of placeholder values\n",
    "movie_ratings_df.isin(['?', '#', 'NaN', 'null', 'N/A', '-', 0]).sum()"
   ]
  },
  {
   "cell_type": "markdown",
   "id": "22a189ee",
   "metadata": {},
   "source": [
    "##### merge imdb tables"
   ]
  },
  {
   "cell_type": "code",
   "execution_count": 25,
   "id": "d7accd37",
   "metadata": {},
   "outputs": [],
   "source": [
    "# Merge sqlite3 tables to make pandas DataFrame (pandas & sqlite)\n",
    "join_movie_id = \"\"\"SELECT * \n",
    "FROM movie_basics\n",
    "INNER JOIN movie_ratings\n",
    "ON movie_basics.movie_id = movie_ratings.movie_id\n",
    "\"\"\""
   ]
  },
  {
   "cell_type": "code",
   "execution_count": 26,
   "id": "a7e2f7be",
   "metadata": {},
   "outputs": [
    {
     "name": "stdout",
     "output_type": "stream",
     "text": [
      "<class 'pandas.core.frame.DataFrame'>\n",
      "RangeIndex: 73856 entries, 0 to 73855\n",
      "Data columns (total 9 columns):\n",
      " #   Column  Non-Null Count  Dtype  \n",
      "---  ------  --------------  -----  \n",
      " 0   0       73856 non-null  object \n",
      " 1   1       73856 non-null  object \n",
      " 2   2       73856 non-null  object \n",
      " 3   3       73856 non-null  int64  \n",
      " 4   4       66236 non-null  float64\n",
      " 5   5       73052 non-null  object \n",
      " 6   6       73856 non-null  object \n",
      " 7   7       73856 non-null  float64\n",
      " 8   8       73856 non-null  int64  \n",
      "dtypes: float64(2), int64(2), object(5)\n",
      "memory usage: 5.1+ MB\n"
     ]
    }
   ],
   "source": [
    "imdb_df = pd.DataFrame(cursor.execute(join_movie_id).fetchall())\n",
    "imdb_df.info()"
   ]
  },
  {
   "cell_type": "markdown",
   "id": "6007da11",
   "metadata": {},
   "source": [
    "##### merge imdb tables (pandas only)"
   ]
  },
  {
   "cell_type": "code",
   "execution_count": 27,
   "id": "60a859a2",
   "metadata": {
    "scrolled": true
   },
   "outputs": [
    {
     "name": "stdout",
     "output_type": "stream",
     "text": [
      "<class 'pandas.core.frame.DataFrame'>\n",
      "Int64Index: 73856 entries, 0 to 73855\n",
      "Data columns (total 8 columns):\n",
      " #   Column           Non-Null Count  Dtype  \n",
      "---  ------           --------------  -----  \n",
      " 0   movie_id         73856 non-null  object \n",
      " 1   primary_title    73856 non-null  object \n",
      " 2   original_title   73856 non-null  object \n",
      " 3   start_year       73856 non-null  int64  \n",
      " 4   runtime_minutes  66236 non-null  float64\n",
      " 5   genres           73052 non-null  object \n",
      " 6   averagerating    73856 non-null  float64\n",
      " 7   numvotes         73856 non-null  int64  \n",
      "dtypes: float64(2), int64(2), object(4)\n",
      "memory usage: 5.1+ MB\n"
     ]
    }
   ],
   "source": [
    "# Merge imdb data\n",
    "imdb_df = pd.merge(left=movie_basics_df, right=movie_ratings_df, on=\"movie_id\")\n",
    "imdb_df.info()"
   ]
  },
  {
   "cell_type": "code",
   "execution_count": 28,
   "id": "24c64368",
   "metadata": {},
   "outputs": [
    {
     "data": {
      "text/html": [
       "<div>\n",
       "<style scoped>\n",
       "    .dataframe tbody tr th:only-of-type {\n",
       "        vertical-align: middle;\n",
       "    }\n",
       "\n",
       "    .dataframe tbody tr th {\n",
       "        vertical-align: top;\n",
       "    }\n",
       "\n",
       "    .dataframe thead th {\n",
       "        text-align: right;\n",
       "    }\n",
       "</style>\n",
       "<table border=\"1\" class=\"dataframe\">\n",
       "  <thead>\n",
       "    <tr style=\"text-align: right;\">\n",
       "      <th></th>\n",
       "      <th>movie_id</th>\n",
       "      <th>primary_title</th>\n",
       "      <th>original_title</th>\n",
       "      <th>start_year</th>\n",
       "      <th>runtime_minutes</th>\n",
       "      <th>genres</th>\n",
       "      <th>averagerating</th>\n",
       "      <th>numvotes</th>\n",
       "    </tr>\n",
       "  </thead>\n",
       "  <tbody>\n",
       "    <tr>\n",
       "      <th>0</th>\n",
       "      <td>tt0063540</td>\n",
       "      <td>Sunghursh</td>\n",
       "      <td>Sunghursh</td>\n",
       "      <td>2013</td>\n",
       "      <td>175.0</td>\n",
       "      <td>Action,Crime,Drama</td>\n",
       "      <td>7.0</td>\n",
       "      <td>77</td>\n",
       "    </tr>\n",
       "    <tr>\n",
       "      <th>1</th>\n",
       "      <td>tt0066787</td>\n",
       "      <td>One Day Before the Rainy Season</td>\n",
       "      <td>Ashad Ka Ek Din</td>\n",
       "      <td>2019</td>\n",
       "      <td>114.0</td>\n",
       "      <td>Biography,Drama</td>\n",
       "      <td>7.2</td>\n",
       "      <td>43</td>\n",
       "    </tr>\n",
       "    <tr>\n",
       "      <th>2</th>\n",
       "      <td>tt0069049</td>\n",
       "      <td>The Other Side of the Wind</td>\n",
       "      <td>The Other Side of the Wind</td>\n",
       "      <td>2018</td>\n",
       "      <td>122.0</td>\n",
       "      <td>Drama</td>\n",
       "      <td>6.9</td>\n",
       "      <td>4517</td>\n",
       "    </tr>\n",
       "    <tr>\n",
       "      <th>3</th>\n",
       "      <td>tt0069204</td>\n",
       "      <td>Sabse Bada Sukh</td>\n",
       "      <td>Sabse Bada Sukh</td>\n",
       "      <td>2018</td>\n",
       "      <td>NaN</td>\n",
       "      <td>Comedy,Drama</td>\n",
       "      <td>6.1</td>\n",
       "      <td>13</td>\n",
       "    </tr>\n",
       "    <tr>\n",
       "      <th>4</th>\n",
       "      <td>tt0100275</td>\n",
       "      <td>The Wandering Soap Opera</td>\n",
       "      <td>La Telenovela Errante</td>\n",
       "      <td>2017</td>\n",
       "      <td>80.0</td>\n",
       "      <td>Comedy,Drama,Fantasy</td>\n",
       "      <td>6.5</td>\n",
       "      <td>119</td>\n",
       "    </tr>\n",
       "  </tbody>\n",
       "</table>\n",
       "</div>"
      ],
      "text/plain": [
       "    movie_id                    primary_title              original_title  \\\n",
       "0  tt0063540                        Sunghursh                   Sunghursh   \n",
       "1  tt0066787  One Day Before the Rainy Season             Ashad Ka Ek Din   \n",
       "2  tt0069049       The Other Side of the Wind  The Other Side of the Wind   \n",
       "3  tt0069204                  Sabse Bada Sukh             Sabse Bada Sukh   \n",
       "4  tt0100275         The Wandering Soap Opera       La Telenovela Errante   \n",
       "\n",
       "   start_year  runtime_minutes                genres  averagerating  numvotes  \n",
       "0        2013            175.0    Action,Crime,Drama            7.0        77  \n",
       "1        2019            114.0       Biography,Drama            7.2        43  \n",
       "2        2018            122.0                 Drama            6.9      4517  \n",
       "3        2018              NaN          Comedy,Drama            6.1        13  \n",
       "4        2017             80.0  Comedy,Drama,Fantasy            6.5       119  "
      ]
     },
     "execution_count": 28,
     "metadata": {},
     "output_type": "execute_result"
    }
   ],
   "source": [
    "imdb_df.head()"
   ]
  },
  {
   "cell_type": "code",
   "execution_count": 29,
   "id": "cf201290",
   "metadata": {},
   "outputs": [
    {
     "data": {
      "text/html": [
       "<div>\n",
       "<style scoped>\n",
       "    .dataframe tbody tr th:only-of-type {\n",
       "        vertical-align: middle;\n",
       "    }\n",
       "\n",
       "    .dataframe tbody tr th {\n",
       "        vertical-align: top;\n",
       "    }\n",
       "\n",
       "    .dataframe thead th {\n",
       "        text-align: right;\n",
       "    }\n",
       "</style>\n",
       "<table border=\"1\" class=\"dataframe\">\n",
       "  <thead>\n",
       "    <tr style=\"text-align: right;\">\n",
       "      <th></th>\n",
       "      <th>movie_id</th>\n",
       "      <th>title</th>\n",
       "      <th>original_title</th>\n",
       "      <th>start_year</th>\n",
       "      <th>runtime_minutes</th>\n",
       "      <th>genres</th>\n",
       "      <th>averagerating</th>\n",
       "      <th>numvotes</th>\n",
       "    </tr>\n",
       "  </thead>\n",
       "  <tbody>\n",
       "    <tr>\n",
       "      <th>0</th>\n",
       "      <td>tt0063540</td>\n",
       "      <td>Sunghursh</td>\n",
       "      <td>Sunghursh</td>\n",
       "      <td>2013</td>\n",
       "      <td>175.0</td>\n",
       "      <td>Action,Crime,Drama</td>\n",
       "      <td>7.0</td>\n",
       "      <td>77</td>\n",
       "    </tr>\n",
       "    <tr>\n",
       "      <th>1</th>\n",
       "      <td>tt0066787</td>\n",
       "      <td>One Day Before the Rainy Season</td>\n",
       "      <td>Ashad Ka Ek Din</td>\n",
       "      <td>2019</td>\n",
       "      <td>114.0</td>\n",
       "      <td>Biography,Drama</td>\n",
       "      <td>7.2</td>\n",
       "      <td>43</td>\n",
       "    </tr>\n",
       "    <tr>\n",
       "      <th>2</th>\n",
       "      <td>tt0069049</td>\n",
       "      <td>The Other Side of the Wind</td>\n",
       "      <td>The Other Side of the Wind</td>\n",
       "      <td>2018</td>\n",
       "      <td>122.0</td>\n",
       "      <td>Drama</td>\n",
       "      <td>6.9</td>\n",
       "      <td>4517</td>\n",
       "    </tr>\n",
       "    <tr>\n",
       "      <th>3</th>\n",
       "      <td>tt0069204</td>\n",
       "      <td>Sabse Bada Sukh</td>\n",
       "      <td>Sabse Bada Sukh</td>\n",
       "      <td>2018</td>\n",
       "      <td>NaN</td>\n",
       "      <td>Comedy,Drama</td>\n",
       "      <td>6.1</td>\n",
       "      <td>13</td>\n",
       "    </tr>\n",
       "    <tr>\n",
       "      <th>4</th>\n",
       "      <td>tt0100275</td>\n",
       "      <td>The Wandering Soap Opera</td>\n",
       "      <td>La Telenovela Errante</td>\n",
       "      <td>2017</td>\n",
       "      <td>80.0</td>\n",
       "      <td>Comedy,Drama,Fantasy</td>\n",
       "      <td>6.5</td>\n",
       "      <td>119</td>\n",
       "    </tr>\n",
       "  </tbody>\n",
       "</table>\n",
       "</div>"
      ],
      "text/plain": [
       "    movie_id                            title              original_title  \\\n",
       "0  tt0063540                        Sunghursh                   Sunghursh   \n",
       "1  tt0066787  One Day Before the Rainy Season             Ashad Ka Ek Din   \n",
       "2  tt0069049       The Other Side of the Wind  The Other Side of the Wind   \n",
       "3  tt0069204                  Sabse Bada Sukh             Sabse Bada Sukh   \n",
       "4  tt0100275         The Wandering Soap Opera       La Telenovela Errante   \n",
       "\n",
       "   start_year  runtime_minutes                genres  averagerating  numvotes  \n",
       "0        2013            175.0    Action,Crime,Drama            7.0        77  \n",
       "1        2019            114.0       Biography,Drama            7.2        43  \n",
       "2        2018            122.0                 Drama            6.9      4517  \n",
       "3        2018              NaN          Comedy,Drama            6.1        13  \n",
       "4        2017             80.0  Comedy,Drama,Fantasy            6.5       119  "
      ]
     },
     "execution_count": 29,
     "metadata": {},
     "output_type": "execute_result"
    }
   ],
   "source": [
    "imdb_df. rename(columns = {\"primary_title\":\"title\"}, inplace = True)\n",
    "imdb_df.head()"
   ]
  },
  {
   "cell_type": "code",
   "execution_count": 30,
   "id": "826ce5bc",
   "metadata": {},
   "outputs": [
    {
     "name": "stdout",
     "output_type": "stream",
     "text": [
      "<class 'pandas.core.frame.DataFrame'>\n",
      "Int64Index: 3027 entries, 0 to 3026\n",
      "Data columns (total 12 columns):\n",
      " #   Column           Non-Null Count  Dtype  \n",
      "---  ------           --------------  -----  \n",
      " 0   title            3027 non-null   object \n",
      " 1   studio           3024 non-null   object \n",
      " 2   domestic_gross   3005 non-null   float64\n",
      " 3   foreign_gross    1832 non-null   object \n",
      " 4   year             3027 non-null   int64  \n",
      " 5   movie_id         3027 non-null   object \n",
      " 6   original_title   3027 non-null   object \n",
      " 7   start_year       3027 non-null   int64  \n",
      " 8   runtime_minutes  2980 non-null   float64\n",
      " 9   genres           3020 non-null   object \n",
      " 10  averagerating    3027 non-null   float64\n",
      " 11  numvotes         3027 non-null   int64  \n",
      "dtypes: float64(3), int64(3), object(6)\n",
      "memory usage: 307.4+ KB\n"
     ]
    }
   ],
   "source": [
    "# Make super_df with most merged data\n",
    "super_df = pd.merge(left=df, right=imdb_df, on=\"title\")\n",
    "super_df.info()"
   ]
  },
  {
   "cell_type": "code",
   "execution_count": 31,
   "id": "bcfb850f",
   "metadata": {},
   "outputs": [
    {
     "name": "stdout",
     "output_type": "stream",
     "text": [
      "<class 'pandas.core.frame.DataFrame'>\n",
      "Int64Index: 1413 entries, 0 to 1412\n",
      "Data columns (total 18 columns):\n",
      " #   Column             Non-Null Count  Dtype  \n",
      "---  ------             --------------  -----  \n",
      " 0   title              1413 non-null   object \n",
      " 1   studio             1413 non-null   object \n",
      " 2   domestic_gross_x   1412 non-null   float64\n",
      " 3   foreign_gross      1215 non-null   object \n",
      " 4   year               1413 non-null   int64  \n",
      " 5   movie_id           1413 non-null   object \n",
      " 6   original_title     1413 non-null   object \n",
      " 7   start_year         1413 non-null   int64  \n",
      " 8   runtime_minutes    1383 non-null   float64\n",
      " 9   genres             1406 non-null   object \n",
      " 10  averagerating      1413 non-null   float64\n",
      " 11  numvotes           1413 non-null   int64  \n",
      " 12  id                 1413 non-null   int64  \n",
      " 13  release_date       1413 non-null   object \n",
      " 14  movie              1413 non-null   object \n",
      " 15  production_budget  1413 non-null   object \n",
      " 16  domestic_gross_y   1413 non-null   object \n",
      " 17  worldwide_gross    1413 non-null   object \n",
      "dtypes: float64(3), int64(4), object(11)\n",
      "memory usage: 209.7+ KB\n"
     ]
    }
   ],
   "source": [
    "super_df = super_df.merge(tn_budgets_df, left_on='title', right_on='movie')\n",
    "super_df.info()\n",
    "\n",
    "#frame_1.merge(frame_2, left_on='county_ID', right_on='countyid')"
   ]
  },
  {
   "cell_type": "code",
   "execution_count": 32,
   "id": "648ef21d",
   "metadata": {
    "scrolled": false
   },
   "outputs": [
    {
     "data": {
      "text/html": [
       "<div>\n",
       "<style scoped>\n",
       "    .dataframe tbody tr th:only-of-type {\n",
       "        vertical-align: middle;\n",
       "    }\n",
       "\n",
       "    .dataframe tbody tr th {\n",
       "        vertical-align: top;\n",
       "    }\n",
       "\n",
       "    .dataframe thead th {\n",
       "        text-align: right;\n",
       "    }\n",
       "</style>\n",
       "<table border=\"1\" class=\"dataframe\">\n",
       "  <thead>\n",
       "    <tr style=\"text-align: right;\">\n",
       "      <th></th>\n",
       "      <th>title</th>\n",
       "      <th>studio</th>\n",
       "      <th>domestic_gross_x</th>\n",
       "      <th>foreign_gross</th>\n",
       "      <th>year</th>\n",
       "      <th>movie_id</th>\n",
       "      <th>original_title</th>\n",
       "      <th>start_year</th>\n",
       "      <th>runtime_minutes</th>\n",
       "      <th>genres</th>\n",
       "      <th>averagerating</th>\n",
       "      <th>numvotes</th>\n",
       "      <th>id</th>\n",
       "      <th>release_date</th>\n",
       "      <th>movie</th>\n",
       "      <th>production_budget</th>\n",
       "      <th>domestic_gross_y</th>\n",
       "      <th>worldwide_gross</th>\n",
       "    </tr>\n",
       "  </thead>\n",
       "  <tbody>\n",
       "    <tr>\n",
       "      <th>0</th>\n",
       "      <td>Toy Story 3</td>\n",
       "      <td>BV</td>\n",
       "      <td>415000000.0</td>\n",
       "      <td>652000000</td>\n",
       "      <td>2010</td>\n",
       "      <td>tt0435761</td>\n",
       "      <td>Toy Story 3</td>\n",
       "      <td>2010</td>\n",
       "      <td>103.0</td>\n",
       "      <td>Adventure,Animation,Comedy</td>\n",
       "      <td>8.3</td>\n",
       "      <td>682218</td>\n",
       "      <td>47</td>\n",
       "      <td>Jun 18, 2010</td>\n",
       "      <td>Toy Story 3</td>\n",
       "      <td>$200,000,000</td>\n",
       "      <td>$415,004,880</td>\n",
       "      <td>$1,068,879,522</td>\n",
       "    </tr>\n",
       "    <tr>\n",
       "      <th>1</th>\n",
       "      <td>Inception</td>\n",
       "      <td>WB</td>\n",
       "      <td>292600000.0</td>\n",
       "      <td>535700000</td>\n",
       "      <td>2010</td>\n",
       "      <td>tt1375666</td>\n",
       "      <td>Inception</td>\n",
       "      <td>2010</td>\n",
       "      <td>148.0</td>\n",
       "      <td>Action,Adventure,Sci-Fi</td>\n",
       "      <td>8.8</td>\n",
       "      <td>1841066</td>\n",
       "      <td>38</td>\n",
       "      <td>Jul 16, 2010</td>\n",
       "      <td>Inception</td>\n",
       "      <td>$160,000,000</td>\n",
       "      <td>$292,576,195</td>\n",
       "      <td>$835,524,642</td>\n",
       "    </tr>\n",
       "    <tr>\n",
       "      <th>2</th>\n",
       "      <td>Shrek Forever After</td>\n",
       "      <td>P/DW</td>\n",
       "      <td>238700000.0</td>\n",
       "      <td>513900000</td>\n",
       "      <td>2010</td>\n",
       "      <td>tt0892791</td>\n",
       "      <td>Shrek Forever After</td>\n",
       "      <td>2010</td>\n",
       "      <td>93.0</td>\n",
       "      <td>Adventure,Animation,Comedy</td>\n",
       "      <td>6.3</td>\n",
       "      <td>167532</td>\n",
       "      <td>27</td>\n",
       "      <td>May 21, 2010</td>\n",
       "      <td>Shrek Forever After</td>\n",
       "      <td>$165,000,000</td>\n",
       "      <td>$238,736,787</td>\n",
       "      <td>$756,244,673</td>\n",
       "    </tr>\n",
       "    <tr>\n",
       "      <th>3</th>\n",
       "      <td>The Twilight Saga: Eclipse</td>\n",
       "      <td>Sum.</td>\n",
       "      <td>300500000.0</td>\n",
       "      <td>398000000</td>\n",
       "      <td>2010</td>\n",
       "      <td>tt1325004</td>\n",
       "      <td>The Twilight Saga: Eclipse</td>\n",
       "      <td>2010</td>\n",
       "      <td>124.0</td>\n",
       "      <td>Adventure,Drama,Fantasy</td>\n",
       "      <td>5.0</td>\n",
       "      <td>211733</td>\n",
       "      <td>53</td>\n",
       "      <td>Jun 30, 2010</td>\n",
       "      <td>The Twilight Saga: Eclipse</td>\n",
       "      <td>$68,000,000</td>\n",
       "      <td>$300,531,751</td>\n",
       "      <td>$706,102,828</td>\n",
       "    </tr>\n",
       "    <tr>\n",
       "      <th>4</th>\n",
       "      <td>Iron Man 2</td>\n",
       "      <td>Par.</td>\n",
       "      <td>312400000.0</td>\n",
       "      <td>311500000</td>\n",
       "      <td>2010</td>\n",
       "      <td>tt1228705</td>\n",
       "      <td>Iron Man 2</td>\n",
       "      <td>2010</td>\n",
       "      <td>124.0</td>\n",
       "      <td>Action,Adventure,Sci-Fi</td>\n",
       "      <td>7.0</td>\n",
       "      <td>657690</td>\n",
       "      <td>15</td>\n",
       "      <td>May 7, 2010</td>\n",
       "      <td>Iron Man 2</td>\n",
       "      <td>$170,000,000</td>\n",
       "      <td>$312,433,331</td>\n",
       "      <td>$621,156,389</td>\n",
       "    </tr>\n",
       "  </tbody>\n",
       "</table>\n",
       "</div>"
      ],
      "text/plain": [
       "                        title studio  domestic_gross_x foreign_gross  year  \\\n",
       "0                 Toy Story 3     BV       415000000.0     652000000  2010   \n",
       "1                   Inception     WB       292600000.0     535700000  2010   \n",
       "2         Shrek Forever After   P/DW       238700000.0     513900000  2010   \n",
       "3  The Twilight Saga: Eclipse   Sum.       300500000.0     398000000  2010   \n",
       "4                  Iron Man 2   Par.       312400000.0     311500000  2010   \n",
       "\n",
       "    movie_id              original_title  start_year  runtime_minutes  \\\n",
       "0  tt0435761                 Toy Story 3        2010            103.0   \n",
       "1  tt1375666                   Inception        2010            148.0   \n",
       "2  tt0892791         Shrek Forever After        2010             93.0   \n",
       "3  tt1325004  The Twilight Saga: Eclipse        2010            124.0   \n",
       "4  tt1228705                  Iron Man 2        2010            124.0   \n",
       "\n",
       "                       genres  averagerating  numvotes  id  release_date  \\\n",
       "0  Adventure,Animation,Comedy            8.3    682218  47  Jun 18, 2010   \n",
       "1     Action,Adventure,Sci-Fi            8.8   1841066  38  Jul 16, 2010   \n",
       "2  Adventure,Animation,Comedy            6.3    167532  27  May 21, 2010   \n",
       "3     Adventure,Drama,Fantasy            5.0    211733  53  Jun 30, 2010   \n",
       "4     Action,Adventure,Sci-Fi            7.0    657690  15   May 7, 2010   \n",
       "\n",
       "                        movie production_budget domestic_gross_y  \\\n",
       "0                 Toy Story 3      $200,000,000     $415,004,880   \n",
       "1                   Inception      $160,000,000     $292,576,195   \n",
       "2         Shrek Forever After      $165,000,000     $238,736,787   \n",
       "3  The Twilight Saga: Eclipse       $68,000,000     $300,531,751   \n",
       "4                  Iron Man 2      $170,000,000     $312,433,331   \n",
       "\n",
       "  worldwide_gross  \n",
       "0  $1,068,879,522  \n",
       "1    $835,524,642  \n",
       "2    $756,244,673  \n",
       "3    $706,102,828  \n",
       "4    $621,156,389  "
      ]
     },
     "execution_count": 32,
     "metadata": {},
     "output_type": "execute_result"
    }
   ],
   "source": [
    "super_df.head()"
   ]
  },
  {
   "cell_type": "code",
   "execution_count": 38,
   "id": "bca562b4",
   "metadata": {},
   "outputs": [
    {
     "name": "stdout",
     "output_type": "stream",
     "text": [
      "<class 'pandas.core.frame.DataFrame'>\n",
      "Int64Index: 1413 entries, 0 to 1412\n",
      "Data columns (total 15 columns):\n",
      " #   Column             Non-Null Count  Dtype  \n",
      "---  ------             --------------  -----  \n",
      " 0   title              1413 non-null   object \n",
      " 1   studio             1413 non-null   object \n",
      " 2   domestic_gross_x   1412 non-null   float64\n",
      " 3   foreign_gross      1215 non-null   object \n",
      " 4   year               1413 non-null   int64  \n",
      " 5   runtime_minutes    1383 non-null   float64\n",
      " 6   genres             1406 non-null   object \n",
      " 7   averagerating      1413 non-null   float64\n",
      " 8   numvotes           1413 non-null   int64  \n",
      " 9   id                 1413 non-null   int64  \n",
      " 10  release_date       1413 non-null   object \n",
      " 11  movie              1413 non-null   object \n",
      " 12  production_budget  1413 non-null   object \n",
      " 13  domestic_gross_y   1413 non-null   object \n",
      " 14  worldwide_gross    1413 non-null   object \n",
      "dtypes: float64(3), int64(3), object(9)\n",
      "memory usage: 176.6+ KB\n"
     ]
    }
   ],
   "source": [
    "super_df.info()"
   ]
  },
  {
   "cell_type": "code",
   "execution_count": 33,
   "id": "d6428100",
   "metadata": {},
   "outputs": [
    {
     "data": {
      "text/plain": [
       "title                  0\n",
       "studio                 0\n",
       "domestic_gross_x       1\n",
       "foreign_gross        198\n",
       "year                   0\n",
       "movie_id               0\n",
       "original_title         0\n",
       "start_year             0\n",
       "runtime_minutes       30\n",
       "genres                 7\n",
       "averagerating          0\n",
       "numvotes               0\n",
       "id                     0\n",
       "release_date           0\n",
       "movie                  0\n",
       "production_budget      0\n",
       "domestic_gross_y       0\n",
       "worldwide_gross        0\n",
       "dtype: int64"
      ]
     },
     "execution_count": 33,
     "metadata": {},
     "output_type": "execute_result"
    }
   ],
   "source": [
    "super_df.isnull().sum()"
   ]
  },
  {
   "cell_type": "markdown",
   "id": "33f165be",
   "metadata": {},
   "source": [
    "##### make clean_df"
   ]
  },
  {
   "cell_type": "code",
   "execution_count": 34,
   "id": "b253dcdd",
   "metadata": {},
   "outputs": [],
   "source": [
    "# Now clean super_df \n",
    "\n",
    "# GOALS\n",
    "\n",
    "# remove foreign_gross, original_title, movie_id, start_year \n",
    "# base on runtime_minutes count"
   ]
  },
  {
   "cell_type": "code",
   "execution_count": 35,
   "id": "013c01af",
   "metadata": {},
   "outputs": [],
   "source": [
    "super_df.drop([\"original_title\", \"movie_id\", \"start_year\"], axis=1, inplace=True)"
   ]
  },
  {
   "cell_type": "code",
   "execution_count": 36,
   "id": "ecf9d44e",
   "metadata": {
    "scrolled": true
   },
   "outputs": [
    {
     "data": {
      "text/html": [
       "<div>\n",
       "<style scoped>\n",
       "    .dataframe tbody tr th:only-of-type {\n",
       "        vertical-align: middle;\n",
       "    }\n",
       "\n",
       "    .dataframe tbody tr th {\n",
       "        vertical-align: top;\n",
       "    }\n",
       "\n",
       "    .dataframe thead th {\n",
       "        text-align: right;\n",
       "    }\n",
       "</style>\n",
       "<table border=\"1\" class=\"dataframe\">\n",
       "  <thead>\n",
       "    <tr style=\"text-align: right;\">\n",
       "      <th></th>\n",
       "      <th>title</th>\n",
       "      <th>studio</th>\n",
       "      <th>domestic_gross_x</th>\n",
       "      <th>foreign_gross</th>\n",
       "      <th>year</th>\n",
       "      <th>runtime_minutes</th>\n",
       "      <th>genres</th>\n",
       "      <th>averagerating</th>\n",
       "      <th>numvotes</th>\n",
       "      <th>id</th>\n",
       "      <th>release_date</th>\n",
       "      <th>movie</th>\n",
       "      <th>production_budget</th>\n",
       "      <th>domestic_gross_y</th>\n",
       "      <th>worldwide_gross</th>\n",
       "    </tr>\n",
       "  </thead>\n",
       "  <tbody>\n",
       "    <tr>\n",
       "      <th>0</th>\n",
       "      <td>Toy Story 3</td>\n",
       "      <td>BV</td>\n",
       "      <td>415000000.0</td>\n",
       "      <td>652000000</td>\n",
       "      <td>2010</td>\n",
       "      <td>103.0</td>\n",
       "      <td>Adventure,Animation,Comedy</td>\n",
       "      <td>8.3</td>\n",
       "      <td>682218</td>\n",
       "      <td>47</td>\n",
       "      <td>Jun 18, 2010</td>\n",
       "      <td>Toy Story 3</td>\n",
       "      <td>$200,000,000</td>\n",
       "      <td>$415,004,880</td>\n",
       "      <td>$1,068,879,522</td>\n",
       "    </tr>\n",
       "    <tr>\n",
       "      <th>1</th>\n",
       "      <td>Inception</td>\n",
       "      <td>WB</td>\n",
       "      <td>292600000.0</td>\n",
       "      <td>535700000</td>\n",
       "      <td>2010</td>\n",
       "      <td>148.0</td>\n",
       "      <td>Action,Adventure,Sci-Fi</td>\n",
       "      <td>8.8</td>\n",
       "      <td>1841066</td>\n",
       "      <td>38</td>\n",
       "      <td>Jul 16, 2010</td>\n",
       "      <td>Inception</td>\n",
       "      <td>$160,000,000</td>\n",
       "      <td>$292,576,195</td>\n",
       "      <td>$835,524,642</td>\n",
       "    </tr>\n",
       "    <tr>\n",
       "      <th>2</th>\n",
       "      <td>Shrek Forever After</td>\n",
       "      <td>P/DW</td>\n",
       "      <td>238700000.0</td>\n",
       "      <td>513900000</td>\n",
       "      <td>2010</td>\n",
       "      <td>93.0</td>\n",
       "      <td>Adventure,Animation,Comedy</td>\n",
       "      <td>6.3</td>\n",
       "      <td>167532</td>\n",
       "      <td>27</td>\n",
       "      <td>May 21, 2010</td>\n",
       "      <td>Shrek Forever After</td>\n",
       "      <td>$165,000,000</td>\n",
       "      <td>$238,736,787</td>\n",
       "      <td>$756,244,673</td>\n",
       "    </tr>\n",
       "    <tr>\n",
       "      <th>3</th>\n",
       "      <td>The Twilight Saga: Eclipse</td>\n",
       "      <td>Sum.</td>\n",
       "      <td>300500000.0</td>\n",
       "      <td>398000000</td>\n",
       "      <td>2010</td>\n",
       "      <td>124.0</td>\n",
       "      <td>Adventure,Drama,Fantasy</td>\n",
       "      <td>5.0</td>\n",
       "      <td>211733</td>\n",
       "      <td>53</td>\n",
       "      <td>Jun 30, 2010</td>\n",
       "      <td>The Twilight Saga: Eclipse</td>\n",
       "      <td>$68,000,000</td>\n",
       "      <td>$300,531,751</td>\n",
       "      <td>$706,102,828</td>\n",
       "    </tr>\n",
       "    <tr>\n",
       "      <th>4</th>\n",
       "      <td>Iron Man 2</td>\n",
       "      <td>Par.</td>\n",
       "      <td>312400000.0</td>\n",
       "      <td>311500000</td>\n",
       "      <td>2010</td>\n",
       "      <td>124.0</td>\n",
       "      <td>Action,Adventure,Sci-Fi</td>\n",
       "      <td>7.0</td>\n",
       "      <td>657690</td>\n",
       "      <td>15</td>\n",
       "      <td>May 7, 2010</td>\n",
       "      <td>Iron Man 2</td>\n",
       "      <td>$170,000,000</td>\n",
       "      <td>$312,433,331</td>\n",
       "      <td>$621,156,389</td>\n",
       "    </tr>\n",
       "  </tbody>\n",
       "</table>\n",
       "</div>"
      ],
      "text/plain": [
       "                        title studio  domestic_gross_x foreign_gross  year  \\\n",
       "0                 Toy Story 3     BV       415000000.0     652000000  2010   \n",
       "1                   Inception     WB       292600000.0     535700000  2010   \n",
       "2         Shrek Forever After   P/DW       238700000.0     513900000  2010   \n",
       "3  The Twilight Saga: Eclipse   Sum.       300500000.0     398000000  2010   \n",
       "4                  Iron Man 2   Par.       312400000.0     311500000  2010   \n",
       "\n",
       "   runtime_minutes                      genres  averagerating  numvotes  id  \\\n",
       "0            103.0  Adventure,Animation,Comedy            8.3    682218  47   \n",
       "1            148.0     Action,Adventure,Sci-Fi            8.8   1841066  38   \n",
       "2             93.0  Adventure,Animation,Comedy            6.3    167532  27   \n",
       "3            124.0     Adventure,Drama,Fantasy            5.0    211733  53   \n",
       "4            124.0     Action,Adventure,Sci-Fi            7.0    657690  15   \n",
       "\n",
       "   release_date                       movie production_budget  \\\n",
       "0  Jun 18, 2010                 Toy Story 3      $200,000,000   \n",
       "1  Jul 16, 2010                   Inception      $160,000,000   \n",
       "2  May 21, 2010         Shrek Forever After      $165,000,000   \n",
       "3  Jun 30, 2010  The Twilight Saga: Eclipse       $68,000,000   \n",
       "4   May 7, 2010                  Iron Man 2      $170,000,000   \n",
       "\n",
       "  domestic_gross_y worldwide_gross  \n",
       "0     $415,004,880  $1,068,879,522  \n",
       "1     $292,576,195    $835,524,642  \n",
       "2     $238,736,787    $756,244,673  \n",
       "3     $300,531,751    $706,102,828  \n",
       "4     $312,433,331    $621,156,389  "
      ]
     },
     "execution_count": 36,
     "metadata": {},
     "output_type": "execute_result"
    }
   ],
   "source": [
    "super_df.head()"
   ]
  },
  {
   "cell_type": "code",
   "execution_count": 42,
   "id": "cf373f6b",
   "metadata": {},
   "outputs": [
    {
     "data": {
      "text/plain": [
       "Index(['title', 'studio', 'domestic_gross_x', 'foreign_gross', 'year',\n",
       "       'runtime_minutes', 'genres', 'averagerating', 'numvotes', 'id',\n",
       "       'release_date', 'movie', 'production_budget', 'domestic_gross_y',\n",
       "       'worldwide_gross'],\n",
       "      dtype='object')"
      ]
     },
     "execution_count": 42,
     "metadata": {},
     "output_type": "execute_result"
    }
   ],
   "source": [
    "super_df.columns"
   ]
  },
  {
   "cell_type": "code",
   "execution_count": 37,
   "id": "661998a7",
   "metadata": {},
   "outputs": [],
   "source": [
    "# https://www.machinelearningplus.com/pandas/pandas-dropna-how-to-drop-missing-values/#:~:text=Dropping%20rows%20if%20missing%20values,names%20to%20the%20subset%20parameter."
   ]
  },
  {
   "cell_type": "code",
   "execution_count": null,
   "id": "4d068bfd",
   "metadata": {},
   "outputs": [],
   "source": [
    "clean_df = super_df.dropna(subset=['runtime_minutes'])\n",
    "clean_df.info()"
   ]
  },
  {
   "cell_type": "code",
   "execution_count": null,
   "id": "0831f401",
   "metadata": {},
   "outputs": [],
   "source": [
    "clean_df = clean_df.dropna(subset=['domestic_gross'])\n",
    "clean_df.info()"
   ]
  },
  {
   "cell_type": "code",
   "execution_count": null,
   "id": "a54eeb4d",
   "metadata": {},
   "outputs": [],
   "source": [
    "clean_df = clean_df.dropna(subset=['genres'])\n",
    "clean_df.info()"
   ]
  },
  {
   "cell_type": "code",
   "execution_count": null,
   "id": "18ac612d",
   "metadata": {
    "scrolled": true
   },
   "outputs": [],
   "source": [
    "clean_df = clean_df.dropna(subset=['studio'])\n",
    "clean_df.info()"
   ]
  },
  {
   "cell_type": "markdown",
   "id": "023626ee",
   "metadata": {},
   "source": [
    "##### clean_df pairplot"
   ]
  },
  {
   "cell_type": "code",
   "execution_count": null,
   "id": "15194352",
   "metadata": {},
   "outputs": [],
   "source": [
    "# view distributions of numeric variables\n",
    "sns.pairplot(clean_df)"
   ]
  },
  {
   "cell_type": "code",
   "execution_count": null,
   "id": "d8daf80e",
   "metadata": {},
   "outputs": [],
   "source": [
    "cols = list(clean_df.columns)\n",
    "cols = cols[1:]"
   ]
  },
  {
   "cell_type": "code",
   "execution_count": null,
   "id": "6e756115",
   "metadata": {},
   "outputs": [],
   "source": [
    "cols"
   ]
  },
  {
   "cell_type": "markdown",
   "id": "baa35b57",
   "metadata": {},
   "source": [
    "##### clean_df pairplot categorical"
   ]
  },
  {
   "cell_type": "code",
   "execution_count": null,
   "id": "a6b3f010",
   "metadata": {},
   "outputs": [],
   "source": [
    "sns.pairplot(clean_df, vars=cols) "
   ]
  },
  {
   "cell_type": "markdown",
   "id": "029a5d8f",
   "metadata": {},
   "source": [
    "Initially this plot may seem like a mistake, but this pairplot yields valuable information. Considering that our dataframe is ordered by `domestic_gross`(descending):\n",
    "\n",
    "- The shape of the year by studio plot indicates that over the past 8 years there has been an increase in the number of film studios.\n",
    "- There is also a dramtic increase in genre diversity in the most recent years.\n",
    "- "
   ]
  },
  {
   "cell_type": "markdown",
   "id": "3342dfc4",
   "metadata": {},
   "source": [
    "#### Explore"
   ]
  },
  {
   "cell_type": "markdown",
   "id": "d35e2965",
   "metadata": {},
   "source": [
    "##### genre"
   ]
  },
  {
   "cell_type": "code",
   "execution_count": null,
   "id": "1bf72dc5",
   "metadata": {},
   "outputs": [],
   "source": [
    "# get max domestic gross per year. \n",
    "# Is there a trend of increasing domestic gross in film industry?\n",
    "\n",
    "# If yes, what are characteristics of film industry?\n",
    "\n",
    "# If no, what are the reasons?"
   ]
  },
  {
   "cell_type": "code",
   "execution_count": null,
   "id": "1c4ddaec",
   "metadata": {},
   "outputs": [],
   "source": [
    "top_gross = clean_df.sort_values(by=\"domestic_gross\", ascending=False)\n",
    "top_gross.head(10)"
   ]
  },
  {
   "cell_type": "code",
   "execution_count": null,
   "id": "61e7c698",
   "metadata": {},
   "outputs": [],
   "source": [
    "# How new is the data\n",
    "top_gross[\"year\"].max()"
   ]
  },
  {
   "cell_type": "code",
   "execution_count": null,
   "id": "66b8efc5",
   "metadata": {},
   "outputs": [],
   "source": [
    "# What is the hightest rating\n",
    "top_gross[\"averagerating\"].max()"
   ]
  },
  {
   "cell_type": "code",
   "execution_count": null,
   "id": "6118356b",
   "metadata": {},
   "outputs": [],
   "source": [
    "# Which movie has the highest rating\n",
    "top_gross.loc[top_gross['averagerating'].idxmax()]"
   ]
  },
  {
   "cell_type": "code",
   "execution_count": null,
   "id": "73213e07",
   "metadata": {},
   "outputs": [],
   "source": [
    "print(clean_df[\"genres\"].unique())\n"
   ]
  },
  {
   "cell_type": "code",
   "execution_count": null,
   "id": "b09206dd",
   "metadata": {},
   "outputs": [],
   "source": [
    "print(clean_df[\"genres\"].nunique())"
   ]
  },
  {
   "cell_type": "code",
   "execution_count": null,
   "id": "de743354",
   "metadata": {},
   "outputs": [],
   "source": [
    "top_gross[\"genres\"] = top_gross[\"genres\"].apply(lambda x: x.split(\",\") if x else x)\n",
    "top_gross.head()"
   ]
  },
  {
   "cell_type": "code",
   "execution_count": null,
   "id": "00470ad2",
   "metadata": {},
   "outputs": [],
   "source": []
  },
  {
   "cell_type": "code",
   "execution_count": null,
   "id": "12d7b508",
   "metadata": {},
   "outputs": [],
   "source": [
    "\n",
    "dataframe.fillna(value, method, axis, inplace, limit, downcast)"
   ]
  },
  {
   "cell_type": "code",
   "execution_count": null,
   "id": "ae2bdcc3",
   "metadata": {},
   "outputs": [],
   "source": []
  },
  {
   "cell_type": "code",
   "execution_count": null,
   "id": "6e7772cd",
   "metadata": {},
   "outputs": [],
   "source": []
  },
  {
   "cell_type": "code",
   "execution_count": null,
   "id": "2a5558b5",
   "metadata": {},
   "outputs": [],
   "source": [
    "all_genres = set()\n",
    "\n",
    "for genres in top_gross[\"genres\"]:\n",
    "    if genres:\n",
    "        all_genres.update(genres)\n",
    "\n",
    "all_genres"
   ]
  },
  {
   "cell_type": "code",
   "execution_count": null,
   "id": "2ebc202e",
   "metadata": {
    "scrolled": true
   },
   "outputs": [],
   "source": [
    "# Iterate through the set.\n",
    "for genre in all_genres:\n",
    "    # Make a new column in dataframe and fill the columns with zeros.\n",
    "    top_gross[genre] = np.zeros(shape=top_gross.shape[0])\n",
    "# Check that the changes took place.                                \n",
    "top_gross.head()"
   ]
  },
  {
   "cell_type": "code",
   "execution_count": null,
   "id": "39702cfb",
   "metadata": {
    "scrolled": true
   },
   "outputs": [],
   "source": [
    "# Iterate through the genres column as an index\n",
    "# the genre rows. \n",
    "for index, row in top_gross.iterrows():\n",
    "    # If the value in genres\n",
    "    if row['genres']:\n",
    "        # mathces a genre column\n",
    "        for genre in row['genres']:\n",
    "            # change that value to 1.\n",
    "            top_gross.loc[index, genre] = 1\n",
    "# Lets check our changes.\n",
    "top_gross.head()"
   ]
  },
  {
   "cell_type": "code",
   "execution_count": null,
   "id": "80eaf439",
   "metadata": {},
   "outputs": [],
   "source": [
    "# Lets make a list of all the genres. First make a list of all the columns of the dataframe.\n",
    "cols = list(top_gross.columns)"
   ]
  },
  {
   "cell_type": "code",
   "execution_count": null,
   "id": "24e79583",
   "metadata": {},
   "outputs": [],
   "source": [
    "# Now index those columns that are associated with the genres and assign them a new name.\n",
    "genre_cols = cols[8:]"
   ]
  },
  {
   "cell_type": "code",
   "execution_count": null,
   "id": "b9e7bad8",
   "metadata": {},
   "outputs": [],
   "source": [
    "# Create a new dictionary\n",
    "genre_count = {}\n",
    "# Iterate through the columns associated with genres, setting the name of the\n",
    "# column as the keys in the dictionary.\n",
    "for col in genre_cols:\n",
    "    # Get the total of all the genre counts where the value equaled 1,\n",
    "    # which we set previously\n",
    "    count = np.sum(top_gross[col] == 1).sum()\n",
    "    # Set the values of the dictionary equal to the total of the counts\n",
    "    genre_count[col] = count"
   ]
  },
  {
   "cell_type": "code",
   "execution_count": null,
   "id": "30f87355",
   "metadata": {},
   "outputs": [],
   "source": [
    "genre_count"
   ]
  },
  {
   "cell_type": "code",
   "execution_count": null,
   "id": "85e14d93",
   "metadata": {},
   "outputs": [],
   "source": [
    "len(genre_count)"
   ]
  },
  {
   "cell_type": "code",
   "execution_count": null,
   "id": "4315175b",
   "metadata": {},
   "outputs": [],
   "source": [
    "list(genre_count)[0]"
   ]
  },
  {
   "cell_type": "code",
   "execution_count": null,
   "id": "50b82968",
   "metadata": {},
   "outputs": [],
   "source": [
    "# https://stackoverflow.com/questions/27263805/pandas-column-of-lists-create-a-row-for-each-list-element"
   ]
  },
  {
   "cell_type": "code",
   "execution_count": null,
   "id": "60688019",
   "metadata": {},
   "outputs": [],
   "source": [
    "clean_df_explode = top_gross.explode(\"genres\")\n",
    "clean_df_explode"
   ]
  },
  {
   "cell_type": "code",
   "execution_count": null,
   "id": "bdb21848",
   "metadata": {},
   "outputs": [],
   "source": [
    "# https://stackoverflow.com/questions/63045171/how-to-sum-values-of-one-column-based-on-other-columns-in-pandas"
   ]
  },
  {
   "cell_type": "code",
   "execution_count": null,
   "id": "9f75e2ad",
   "metadata": {},
   "outputs": [],
   "source": [
    "genre_gross_df = clean_df_explode.groupby('genres')['domestic_gross'].sum() / clean_df_explode['genres'].value_counts()\n",
    "genre_gross_df.describe()"
   ]
  },
  {
   "cell_type": "markdown",
   "id": "0c06f005",
   "metadata": {},
   "source": [
    "Here we can see the average gross descriptive statistics for our data."
   ]
  },
  {
   "cell_type": "code",
   "execution_count": null,
   "id": "8b7eab2b",
   "metadata": {
    "scrolled": true
   },
   "outputs": [],
   "source": [
    "# Create a plot and define its size.\n",
    "plt.figure(figsize=(20, 10))\n",
    "# Draw a seaborn boxplot based on the Adventure genre and production budgets\n",
    "sns.boxplot(clean_df_explode['genres'], clean_df_explode['domestic_gross'], palette=\"winter\")\n",
    "# Set title of plot\n",
    "plt.title('Distribution of Domestic Gross by Genre')\n",
    "# Set x-axis label and font size\n",
    "plt.xlabel('Genre', fontsize=15)\n",
    "# Set y-axis label\n",
    "plt.ylabel('Domestic Gross in USD')\n",
    "# Remove scientific notation from y-axis tick labels\n",
    "plt.ticklabel_format(style='plain', axis='y')\n",
    "\n",
    "# Show the plot\n",
    "plt.show()"
   ]
  },
  {
   "cell_type": "code",
   "execution_count": null,
   "id": "16b1034f",
   "metadata": {},
   "outputs": [],
   "source": [
    "clean_df_explode['genres'].value_counts()"
   ]
  },
  {
   "cell_type": "code",
   "execution_count": null,
   "id": "4a528304",
   "metadata": {},
   "outputs": [],
   "source": [
    "# Create a plot and define its size.\n",
    "plt.figure(figsize=(20, 10))\n",
    "# Draw a seaborn boxplot based on the Adventure genre and production budgets\n",
    "sns.boxplot(clean_df_explode['genres'], clean_df_explode['averagerating'], palette=\"Wistia\")\n",
    "# Set title of plot\n",
    "plt.title('Distribution of Average Rating by Genre')\n",
    "# Set x-axis label and font size\n",
    "plt.xlabel('Genre', fontsize=15)\n",
    "# Set y-axis label\n",
    "plt.ylabel('Average Rating')\n",
    "# Remove scientific notation from y-axis tick labels\n",
    "plt.ticklabel_format(style='plain', axis='y')\n",
    "\n",
    "# Show the plot\n",
    "plt.show()"
   ]
  },
  {
   "cell_type": "code",
   "execution_count": null,
   "id": "c63d40f9",
   "metadata": {},
   "outputs": [],
   "source": []
  },
  {
   "cell_type": "code",
   "execution_count": null,
   "id": "6abf255a",
   "metadata": {},
   "outputs": [],
   "source": [
    "# Create a list of the dictionary keys\n",
    "keys = list(genre_count.keys())\n",
    "# Create a list of the dictionary values\n",
    "values = list(genre_count.values())"
   ]
  },
  {
   "cell_type": "code",
   "execution_count": null,
   "id": "afe45601",
   "metadata": {},
   "outputs": [],
   "source": [
    "#https://stackoverflow.com/questions/56360610/sum-column-based-on-another-column-in-pandas-dataframe"
   ]
  },
  {
   "cell_type": "code",
   "execution_count": null,
   "id": "a55f3ded",
   "metadata": {},
   "outputs": [],
   "source": [
    "# Create new column based on funder occurrences.\n",
    "clean_df['genre_totals'] = clean_df.domestic_gross.groupby(clean_df.genres).transform('sum')"
   ]
  },
  {
   "cell_type": "markdown",
   "id": "73a1cbd2",
   "metadata": {},
   "source": [
    "## Practice with new value"
   ]
  },
  {
   "cell_type": "code",
   "execution_count": null,
   "id": "9ad0e145",
   "metadata": {},
   "outputs": [],
   "source": [
    "df = pd.read_csv('zippedData.zip',compression='zip')"
   ]
  },
  {
   "cell_type": "code",
   "execution_count": null,
   "id": "084b0c69",
   "metadata": {},
   "outputs": [],
   "source": [
    "# import required modules\n",
    "import zipfile\n",
    "import pandas as pd\n",
    " \n",
    "# open zipped dataset\n",
    "with zipfile.ZipFile(\"test.zip\") as z:\n",
    "   # open the csv file in the dataset\n",
    "   with z.open(\"test.csv\") as f:\n",
    "       \n",
    "      # read the dataset\n",
    "      train = pd.read_csv(f)\n",
    "       \n",
    "      # display dataset\n",
    "      print(train.head())"
   ]
  },
  {
   "cell_type": "code",
   "execution_count": null,
   "id": "26430a19",
   "metadata": {},
   "outputs": [],
   "source": []
  },
  {
   "cell_type": "code",
   "execution_count": null,
   "id": "8f96f90b",
   "metadata": {},
   "outputs": [],
   "source": [
    "clean_df.head()"
   ]
  },
  {
   "cell_type": "code",
   "execution_count": null,
   "id": "1c406fdd",
   "metadata": {},
   "outputs": [],
   "source": [
    "bv_studio = clean_df[\"studio\"]"
   ]
  },
  {
   "cell_type": "code",
   "execution_count": null,
   "id": "a9b7dd12",
   "metadata": {},
   "outputs": [],
   "source": [
    "# Define our binning function\n",
    "def group_studio():\n",
    "    if studio[] == 'BV':\n",
    "        return [].mean()"
   ]
  },
  {
   "cell_type": "code",
   "execution_count": null,
   "id": "54e0e0f1",
   "metadata": {},
   "outputs": [],
   "source": []
  },
  {
   "cell_type": "code",
   "execution_count": null,
   "id": "37d6f13b",
   "metadata": {},
   "outputs": [],
   "source": [
    "# Define our binning function\n",
    "def group_zip(coor):\n",
    "    \"\"\"\n",
    "    Takes in coordinates, and applies conditionals to lat and long to return the appropriate region the coordinate lies in.\n",
    "    \"\"\"\n",
    "    if coor[0] > 47.5 and coor[1] < -122.1:\n",
    "        return 'NW'\n",
    "    elif coor[0] < 47.5 and coor[1] < -122.1:\n",
    "        return 'SW'\n",
    "    elif coor[0] > 47.5 and coor[1] > -122.1:\n",
    "        return 'NE'\n",
    "    else:\n",
    "        return 'SE'\n",
    "\n",
    "# Create new feature based on the values returned from function\n",
    "dumb_coor_df['zip_group'] = dumb_coor_df['coordinate'].apply(group_zip)"
   ]
  },
  {
   "cell_type": "code",
   "execution_count": null,
   "id": "5192a1c6",
   "metadata": {},
   "outputs": [],
   "source": [
    "# Create lists of the seasons with months as elements\n",
    "short_rain = [11, 12]\n",
    "long_rain = [3, 4, 5]\n",
    "short_dry = [1, 2]\n",
    "long_dry = [6, 7, 8, 9, 10]\n",
    "\n",
    "# Create a function that bins the months reported by season\n",
    "def season(mon):\n",
    "    \"\"\"\n",
    "    Takes in month, and applies in logical to determine season of sale.\n",
    "    \"\"\"\n",
    "    if mon in short_rain:\n",
    "        return 'short_rain'\n",
    "    elif mon in long_rain:\n",
    "        return 'long_rain'\n",
    "    elif mon in short_dry:\n",
    "        return 'short_dry'\n",
    "    else:\n",
    "        return 'long_dry'\n",
    "\n",
    "# Create new feature based on the values returned from function\n",
    "train_df['seas_recorded'] = train_df['month_recorded'].apply(season)"
   ]
  },
  {
   "cell_type": "code",
   "execution_count": null,
   "id": "bc82045e",
   "metadata": {},
   "outputs": [],
   "source": [
    "mean_val = df.groupby(\"Show\")[\"Time_watched\"].transform(\"mean\")\n",
    "df[\"Completed\"] = (\n",
    "    df[\"Completed\"].fillna((df[\"Time_watched\"] > mean_val)).astype(int)\n",
    ")\n",
    "\n"
   ]
  },
  {
   "cell_type": "code",
   "execution_count": null,
   "id": "280fe9de",
   "metadata": {},
   "outputs": [],
   "source": [
    "Output:\n",
    "\n",
    "           Show  Time_watched  Completed\n",
    "0           GOT           400          1\n",
    "1    The Office           424          1\n",
    "2  Breaking Bad           325          0\n",
    "3           GOT           325          0\n",
    "4    The Office           344          0\n",
    "5  Breaking Bad           325          1"
   ]
  },
  {
   "cell_type": "markdown",
   "id": "0f1c35ec",
   "metadata": {},
   "source": [
    "First, calculate the mean by show using groupby with transform then, compare that each value, and fillna.\n",
    "\n",
    "Quantile 75%"
   ]
  },
  {
   "cell_type": "markdown",
   "id": "52c40086",
   "metadata": {},
   "source": [
    "Try this:"
   ]
  },
  {
   "cell_type": "code",
   "execution_count": null,
   "id": "55dae352",
   "metadata": {},
   "outputs": [],
   "source": [
    "mean_val = clean_df.groupby(\"studio\")[\"domestic_gross\"].transform(\"mean\")\n",
    "print(mean_val)"
   ]
  },
  {
   "cell_type": "code",
   "execution_count": null,
   "id": "1ab04347",
   "metadata": {},
   "outputs": [],
   "source": [
    "clean_df[\"num_rating\"] = "
   ]
  },
  {
   "cell_type": "code",
   "execution_count": null,
   "id": "2e530db0",
   "metadata": {},
   "outputs": [],
   "source": [
    "\n",
    "df[\"Completed\"] = (\n",
    "    df[\"Completed\"].fillna((df[\"Time_watched\"] > mean_val)).astype(int)\n",
    ")\n",
    "\n",
    "q75 = df.groupby(\"Show\")[\"Time_watched\"].transform(pd.Series.quantile, q=.75)\n",
    "df['Complete'] = df[\"Completed\"].fillna((df[\"Time_watched\"] > q75)).astype(int)"
   ]
  },
  {
   "cell_type": "code",
   "execution_count": null,
   "id": "5cd0938f",
   "metadata": {},
   "outputs": [],
   "source": [
    "df = pd.read_csv(\"rt-Copy1.reviews.csv\")"
   ]
  },
  {
   "cell_type": "code",
   "execution_count": null,
   "id": "8f99bcc8",
   "metadata": {},
   "outputs": [],
   "source": [
    "# manually impute missing values with numpy\n",
    "from pandas import read_csv\n",
    "from numpy import nan\n",
    "# load the dataset\n",
    "dataset = read_csv('pima-indians-diabetes.csv', header=None)\n",
    "# mark zero values as missing or NaN\n",
    "dataset[[1,2,3,4,5]] = dataset[[1,2,3,4,5]].replace(0, nan)\n",
    "# fill missing values with mean column values\n",
    "dataset.fillna(dataset.mean(), inplace=True)\n",
    "# count the number of NaN values in each column\n",
    "print(dataset.isnull().sum())"
   ]
  },
  {
   "cell_type": "code",
   "execution_count": null,
   "id": "25c5f6b6",
   "metadata": {},
   "outputs": [],
   "source": [
    "if df[\"rating_num\"][movie] == None:\n",
    "    df[\"rating_num\"].fillna(median)"
   ]
  },
  {
   "cell_type": "code",
   "execution_count": null,
   "id": "ae7dacc8",
   "metadata": {},
   "outputs": [],
   "source": []
  },
  {
   "cell_type": "code",
   "execution_count": null,
   "id": "8c755c79",
   "metadata": {},
   "outputs": [],
   "source": [
    "clean_df['studio_avg'] = np.where((top_gross['studio'] == 'BV'), 1, np.nan)"
   ]
  },
  {
   "cell_type": "code",
   "execution_count": null,
   "id": "77a31c48",
   "metadata": {},
   "outputs": [],
   "source": []
  },
  {
   "cell_type": "code",
   "execution_count": null,
   "id": "2a1e73f1",
   "metadata": {},
   "outputs": [],
   "source": []
  },
  {
   "cell_type": "code",
   "execution_count": null,
   "id": "0183b582",
   "metadata": {},
   "outputs": [],
   "source": []
  },
  {
   "cell_type": "code",
   "execution_count": null,
   "id": "b6b10737",
   "metadata": {},
   "outputs": [],
   "source": []
  },
  {
   "cell_type": "code",
   "execution_count": null,
   "id": "d83475df",
   "metadata": {},
   "outputs": [],
   "source": []
  },
  {
   "cell_type": "code",
   "execution_count": null,
   "id": "3904fe66",
   "metadata": {},
   "outputs": [],
   "source": []
  },
  {
   "cell_type": "code",
   "execution_count": null,
   "id": "568337d8",
   "metadata": {
    "scrolled": true
   },
   "outputs": [],
   "source": [
    "# Create new column based on funder occurrences.\n",
    "clean_df['genre_avg_gross'] = clean_df.domestic_gross.groupby(clean_df.genres).transform('sum')/clean_df.domestic_gross.groupby(clean_df.genres).transform('count')\n",
    "clean_df.head(10)"
   ]
  },
  {
   "cell_type": "code",
   "execution_count": null,
   "id": "37813f13",
   "metadata": {
    "scrolled": true
   },
   "outputs": [],
   "source": [
    "gross_genre_df = clean_df.sort_values(by=\"genre_avg_gross\", ascending=False)\n",
    "gross_genre_df.head(10)"
   ]
  },
  {
   "cell_type": "code",
   "execution_count": null,
   "id": "a6d46551",
   "metadata": {},
   "outputs": [],
   "source": [
    "# Create a new dictionary\n",
    "genre_count = {}\n",
    "# Iterate through the columns associated with genres, setting the name of the\n",
    "# column as the keys in the dictionary.\n",
    "for col in genre_cols:\n",
    "    # Get the total of all the genre counts where the value equaled 1,\n",
    "    # which we set previously\n",
    "    count = np.sum(top_gross[col] == 1).sum()\n",
    "    # Set the values of the dictionary equal to the total of the counts\n",
    "    genre_count[col] = count"
   ]
  },
  {
   "cell_type": "code",
   "execution_count": null,
   "id": "55a430db",
   "metadata": {},
   "outputs": [],
   "source": [
    "gross_genre_df = gross_genre_df.drop_duplicates(subset='genres', keep=\"first\")"
   ]
  },
  {
   "cell_type": "code",
   "execution_count": null,
   "id": "0f03df54",
   "metadata": {},
   "outputs": [],
   "source": [
    "gross_genre_df.head(10)"
   ]
  },
  {
   "cell_type": "code",
   "execution_count": null,
   "id": "58c0ea84",
   "metadata": {
    "scrolled": true
   },
   "outputs": [],
   "source": [
    "# Set the style of the seaborn plot to have a white background with gray lines. \n",
    "#sns.set(style=\"whitegrid\")\n",
    "# Set the scale plot to be larger and easier to read.\n",
    "#sns.set_context(\"talk\")\n",
    "# Create a plot and size it appropriately for information shown\n",
    "plt.figure(figsize=(12,10))\n",
    "# Draw the seaborn barplot\n",
    "sns.barplot(y = keys, x = values, alpha=0.8, palette=\"deep\")\n",
    "# Set the barplot's title.\n",
    "plt.title('Films by Genre')\n",
    "# Label the y-axis\n",
    "plt.ylabel('Genre', fontsize=20)\n",
    "# Label the x-axis\n",
    "plt.xlabel('Count', fontsize=20)\n",
    "\n",
    "# Show the plot                \n",
    "plt.show()"
   ]
  },
  {
   "cell_type": "code",
   "execution_count": null,
   "id": "a8c3e876",
   "metadata": {},
   "outputs": [],
   "source": [
    "# Interesting to get the average domestic gross of each genre"
   ]
  },
  {
   "cell_type": "code",
   "execution_count": null,
   "id": "df5a7288",
   "metadata": {},
   "outputs": [],
   "source": [
    "# Create correlation dataframe\n",
    "cor_df = clean_df.corr(method = \"pearson\").round(2)\n",
    "cor_df"
   ]
  },
  {
   "cell_type": "code",
   "execution_count": null,
   "id": "d25e60ae",
   "metadata": {},
   "outputs": [],
   "source": [
    "# Create a seaborn heatmap to show correlations\n",
    "fig, ax = plt.subplots(figsize=(20,15))\n",
    "cmap = sns.diverging_palette(150, 275, s=80, l=55, n=9, as_cmap=True)\n",
    "sns.heatmap(cor_df, center=0, cmap=cmap, robust=True)"
   ]
  },
  {
   "cell_type": "code",
   "execution_count": null,
   "id": "7b453e56",
   "metadata": {
    "scrolled": true
   },
   "outputs": [],
   "source": [
    "# https://medium.com/the-researchers-guide/generate-numerical-correlation-and-nominal-association-plots-using-python-c8548aa4a663\n",
    "# pip install dython\n",
    "# using dython library\n",
    "from dython.nominal import associations\n",
    "# Step 1: Instantiate a figure and axis object\n",
    "fig, ax = plt.subplots(figsize=(16, 8))\n",
    "# Step 2: Creating a pair-wise correlation plot \n",
    "# Saving it into a variable(r)\n",
    "r = associations(clean_df, ax = ax, cmap = \"Blues\")"
   ]
  },
  {
   "cell_type": "code",
   "execution_count": null,
   "id": "5ec13c9c",
   "metadata": {},
   "outputs": [],
   "source": [
    "r[\"corr\"].round(2)"
   ]
  },
  {
   "cell_type": "code",
   "execution_count": null,
   "id": "95226f8b",
   "metadata": {},
   "outputs": [],
   "source": [
    "# Using association_metrics library\n",
    "import association_metrics as am\n",
    "# Convert object columns to Category columns\n",
    "df = clean_df.apply(\n",
    "        lambda x: x.astype(\"category\") if x.dtype == \"O\" else x)\n",
    "# Initialize a CramersV object using the pandas.DataFrame (df)\n",
    "cramers_v = am.CramersV(df)\n",
    "# It will return a pairwise matrix filled with Cramer's V, where \n",
    "# columns and index are the categorical variables of the passed     # pandas.DataFrame\n",
    "cfit = cramers_v.fit().round(2)\n",
    "cfit"
   ]
  },
  {
   "cell_type": "code",
   "execution_count": null,
   "id": "04ad8d21",
   "metadata": {},
   "outputs": [],
   "source": [
    "# boxplot of domestic_gross by year"
   ]
  },
  {
   "cell_type": "code",
   "execution_count": null,
   "id": "101e0ab4",
   "metadata": {},
   "outputs": [],
   "source": [
    "# Create a plot and define its size.\n",
    "plt.figure(figsize=(12, 10))\n",
    "# Draw a seaborn boxplot based on the Adventure genre and production budgets\n",
    "sns.boxplot(x=clean_df[\"year\"],\n",
    "            y=clean_df['domestic_gross'], palette=\"Set2\")\n",
    "# Set title of plot\n",
    "plt.title('Distribution of Domestic Gross by Year')\n",
    "# Set x-axis label and font size\n",
    "plt.xlabel('Year', fontsize=15)\n",
    "# Set y-axis label\n",
    "plt.ylabel('Domestic Gross in USD')\n",
    "# Remove scientific notation from y-axis tick labels\n",
    "plt.ticklabel_format(style='plain', axis='y')\n",
    "\n",
    "# Show the plot\n",
    "plt.show()"
   ]
  },
  {
   "cell_type": "code",
   "execution_count": null,
   "id": "a45cd52e",
   "metadata": {},
   "outputs": [],
   "source": [
    "aas = clean_df[clean_df['genres'] == 'Action,Adventure,Sci-Fi']\n",
    "aas.head()"
   ]
  },
  {
   "cell_type": "code",
   "execution_count": null,
   "id": "72716dba",
   "metadata": {},
   "outputs": [],
   "source": [
    "clean_df.head()"
   ]
  },
  {
   "cell_type": "code",
   "execution_count": null,
   "id": "ccd38695",
   "metadata": {},
   "outputs": [],
   "source": [
    "aas.describe()"
   ]
  },
  {
   "cell_type": "code",
   "execution_count": null,
   "id": "283ba694",
   "metadata": {},
   "outputs": [],
   "source": [
    "aas[\"domestic_gross\"].plot.box()"
   ]
  },
  {
   "cell_type": "code",
   "execution_count": null,
   "id": "e6f8217a",
   "metadata": {},
   "outputs": [],
   "source": [
    "# Create a plot and define its size.\n",
    "plt.figure(figsize=(12, 10))\n",
    "# Draw a seaborn boxplot based on the Adventure genre and production budgets\n",
    "sns.boxplot(x=clean_df[\"year\"],\n",
    "            y=clean_df['domestic_gross'], palette=\"Set2\")\n",
    "# Set title of plot\n",
    "plt.title('Distribution of Domestic Gross by Year')\n",
    "# Set x-axis label and font size\n",
    "plt.xlabel('Action,Adventure,Sci-Fi Genre', fontsize=15)\n",
    "# Set y-axis label\n",
    "plt.ylabel('Domestic Gross in USD')\n",
    "# Remove scientific notation from y-axis tick labels\n",
    "plt.ticklabel_format(style='plain', axis='y')\n",
    "\n",
    "# Show the plot\n",
    "plt.show()"
   ]
  },
  {
   "cell_type": "code",
   "execution_count": null,
   "id": "5af13709",
   "metadata": {},
   "outputs": [],
   "source": [
    "######################################################################################################################\n",
    "######################################################################################################################"
   ]
  },
  {
   "cell_type": "code",
   "execution_count": null,
   "id": "68534b1a",
   "metadata": {},
   "outputs": [],
   "source": [
    "# Import library as pg\n",
    "import pingouin as pg\n",
    "# Perform a hypothesis testing\n",
    "(\n",
    "pg.pairwise_corr(clean_df,\n",
    "        columns = [\"cement\", \"water\", \"strength\", \"superplastic\"],\n",
    "        method = 'pearson')\n",
    "  .round(3)\n",
    ")"
   ]
  },
  {
   "cell_type": "code",
   "execution_count": null,
   "id": "ccd73343",
   "metadata": {},
   "outputs": [],
   "source": [
    "# Step 1: Initiating a fig and axis object\n",
    "fig, ax = plt.subplots(figsize = (12, 10))\n",
    "# Step 2: Create a plot\n",
    "cax = ax.imshow(cor_df.values, interpolation='nearest', cmap = 'Blues', vmin = -1, vmax = 1)\n",
    "# Step 3: Set axis tick labels \n",
    "ax.set_xticks(ticks = range(len(clean_df.columns)),\n",
    "              labels = clean_df.columns)\n",
    "ax.set_yticks(ticks = range(len(clean_df.columns)),\n",
    "              labels = clean_df.columns)\n",
    "# Step 4: Resize the tick parameters\n",
    "ax.tick_params(axis = \"x\", labelsize = 12, labelrotation = 90)\n",
    "ax.tick_params(axis = \"y\", labelsize = 12, labelrotation = 0)\n",
    "# Step 5: Adding a color bar\n",
    "fig.colorbar(cax).ax.tick_params(labelsize = 12)\n",
    "# Step 6: Add annotation\n",
    "for (x, y), t in np.ndenumerate(cor_df):\n",
    "    ax.annotate(\"{:.2f}\".format(t),\n",
    "                 xy = (x, y),\n",
    "                 va = \"center\", # vertical position\n",
    "                 ha = \"center\") # horizontal position"
   ]
  },
  {
   "cell_type": "code",
   "execution_count": null,
   "id": "bd23f9c0",
   "metadata": {},
   "outputs": [],
   "source": []
  },
  {
   "cell_type": "code",
   "execution_count": null,
   "id": "c00fa0de",
   "metadata": {},
   "outputs": [],
   "source": []
  },
  {
   "cell_type": "code",
   "execution_count": null,
   "id": "6626cfcf",
   "metadata": {},
   "outputs": [],
   "source": []
  },
  {
   "cell_type": "code",
   "execution_count": null,
   "id": "9f6fd2e6",
   "metadata": {},
   "outputs": [],
   "source": []
  },
  {
   "cell_type": "code",
   "execution_count": null,
   "id": "45151c4c",
   "metadata": {},
   "outputs": [],
   "source": [
    "pip install association_metrics   # correlation/association & plot\n",
    "pip install dython                # Correlation/association & plot\n",
    "pip install pingouin              # Hypothesis testing"
   ]
  },
  {
   "cell_type": "code",
   "execution_count": null,
   "id": "e3b67cd2",
   "metadata": {},
   "outputs": [],
   "source": [
    "rt_movie_info_df = pd.read_csv('zippedData/rt.movie_info.tsv.gz', sep = '\\t')\n",
    "print(len(rt_movie_info_df))\n",
    "rt_movie_info_df.head()"
   ]
  },
  {
   "cell_type": "code",
   "execution_count": null,
   "id": "2520110b",
   "metadata": {},
   "outputs": [],
   "source": [
    "\n",
    "rt_review=pd.read_csv('rt.reviews.tsv.gz',sep='\\t', encoding='latin_1') \n",
    "rt_review.columns #Columns: id', 'review', 'rating', 'fresh', 'critic', 'top_critic', 'publisher','date'"
   ]
  },
  {
   "cell_type": "code",
   "execution_count": null,
   "id": "a84a92e7",
   "metadata": {
    "scrolled": true
   },
   "outputs": [],
   "source": [
    "rt_review.head()"
   ]
  },
  {
   "cell_type": "code",
   "execution_count": null,
   "id": "c52c9cda",
   "metadata": {},
   "outputs": [],
   "source": [
    "# Merge imdb data\n",
    "rt_df = pd.merge(left=rt_review, right=rt_movie_info_df, on=\"id\")\n",
    "rt_df.head()"
   ]
  },
  {
   "cell_type": "code",
   "execution_count": null,
   "id": "39cfcd93",
   "metadata": {},
   "outputs": [],
   "source": [
    "rt_df[\"rating_x\"].unique()"
   ]
  },
  {
   "cell_type": "code",
   "execution_count": null,
   "id": "086f5c53",
   "metadata": {},
   "outputs": [],
   "source": [
    "rt_df[\"rating_x\"].nunique()"
   ]
  },
  {
   "cell_type": "code",
   "execution_count": null,
   "id": "8634b386",
   "metadata": {},
   "outputs": [],
   "source": [
    "type(rt_df[\"box_office\"][0])"
   ]
  },
  {
   "cell_type": "code",
   "execution_count": null,
   "id": "6135a811",
   "metadata": {},
   "outputs": [],
   "source": [
    "rt_df[\"box_office\"] = rt_df[\"box_office\"].str.replace(\n",
    "    ',', '')"
   ]
  },
  {
   "cell_type": "code",
   "execution_count": null,
   "id": "e5312b42",
   "metadata": {
    "scrolled": true
   },
   "outputs": [],
   "source": [
    "rt_df.head()"
   ]
  },
  {
   "cell_type": "code",
   "execution_count": null,
   "id": "042f936c",
   "metadata": {},
   "outputs": [],
   "source": [
    "rt_df[\"box_office\"] = rt_df[\"box_office\"].apply(pd.to_numeric)"
   ]
  },
  {
   "cell_type": "code",
   "execution_count": null,
   "id": "3718ae56",
   "metadata": {},
   "outputs": [],
   "source": [
    "rt_df.head()"
   ]
  },
  {
   "cell_type": "code",
   "execution_count": null,
   "id": "3e100f2f",
   "metadata": {},
   "outputs": [],
   "source": [
    "bo_avg_fresh_df = rt_df.groupby('fresh', as_index=False)['box_office'].mean()\n",
    "bo_avg_fresh_df"
   ]
  },
  {
   "cell_type": "code",
   "execution_count": null,
   "id": "f6294d49",
   "metadata": {},
   "outputs": [],
   "source": [
    "fresh_mean = bo_avg_fresh_df[\"box_office\"][0]\n",
    "print(fresh_mean)\n",
    "rotten_mean = bo_avg_fresh_df[\"box_office\"][1]\n",
    "print(rotten_mean)"
   ]
  },
  {
   "cell_type": "code",
   "execution_count": null,
   "id": "2c849e4d",
   "metadata": {},
   "outputs": [],
   "source": [
    "missing_mask = rt_review[\"rating\"].isna()\n",
    "mapping_dict = dict({'fresh': fresh_mean, 'rotten': rotten_mean})\n",
    "rt_review.loc[missing_mask, 'rating'] = rt_review.loc[missing_mask, 'fresh'].map(mapping_dict)\n",
    "rt_review['rating'] = rt_review['rating'].fillna('Medium')\n",
    "rt_review.head()"
   ]
  },
  {
   "cell_type": "code",
   "execution_count": null,
   "id": "4b3e4a8f",
   "metadata": {},
   "outputs": [],
   "source": []
  },
  {
   "cell_type": "code",
   "execution_count": null,
   "id": "fdf529ad",
   "metadata": {},
   "outputs": [],
   "source": [
    "mean_val = rt_df.groupby(\"fresh\")[\"box_office\"].transform(\"mean\")\n",
    "mean_val"
   ]
  },
  {
   "cell_type": "code",
   "execution_count": null,
   "id": "c25cd274",
   "metadata": {},
   "outputs": [],
   "source": [
    "rt_df.head()"
   ]
  },
  {
   "cell_type": "code",
   "execution_count": null,
   "id": "254c0c8e",
   "metadata": {},
   "outputs": [],
   "source": [
    "fake_dataframe = pd.DataFrame({\n",
    "    'Outlet_Size' : ['Medium', 'Medium', 'Medium', np.nan, 'High', 'High', np.nan, 'Small', 'Medium', 'Small', np.nan, np.nan],\n",
    "    'sales_bin': ['3000-4000', '0-1000', '2000-3000', '0-1000', '0-1000', '2000-3000', '0-1000', '1000-2000', '1000-2000', '0-1000', '2000-3000', '1000-2000']\n",
    "})\n",
    "missing_mask = fake_dataframe['Outlet_Size'].isna()\n",
    "mapping_dict = dict({'0-1000': 'Small'})\n",
    "fake_dataframe.loc[missing_mask, 'Outlet_Size'] = fake_dataframe.loc[missing_mask, 'sales_bin'].map(mapping_dict)\n",
    "fake_dataframe['Outlet_Size'] = fake_dataframe['Outlet_Size'].fillna('Medium')\n",
    "print(fake_dataframe)"
   ]
  },
  {
   "cell_type": "code",
   "execution_count": null,
   "id": "25886142",
   "metadata": {},
   "outputs": [],
   "source": []
  },
  {
   "cell_type": "code",
   "execution_count": null,
   "id": "36ed13e8",
   "metadata": {},
   "outputs": [],
   "source": []
  },
  {
   "cell_type": "code",
   "execution_count": null,
   "id": "4b0f4564",
   "metadata": {},
   "outputs": [],
   "source": []
  },
  {
   "cell_type": "code",
   "execution_count": null,
   "id": "6ebfff56",
   "metadata": {},
   "outputs": [],
   "source": [
    "# Create lists of the seasons with months as elements\n",
    "poor rating = [11, 12]\n",
    "long_rain = [3, 4, 5]\n",
    "short_dry = [1, 2]\n",
    "long_dry = [6, 7, 8, 9, 10]"
   ]
  },
  {
   "cell_type": "code",
   "execution_count": null,
   "id": "25902ba6",
   "metadata": {},
   "outputs": [],
   "source": []
  },
  {
   "cell_type": "code",
   "execution_count": null,
   "id": "b00dd07c",
   "metadata": {},
   "outputs": [],
   "source": [
    "# Create lists of the seasons with months as elements\n",
    "short_rain = [11, 12]\n",
    "long_rain = [3, 4, 5]\n",
    "short_dry = [1, 2]\n",
    "long_dry = [6, 7, 8, 9, 10]\n",
    "\n",
    "# Create a function that bins the months reported by season\n",
    "def season(mon):\n",
    "    \"\"\"\n",
    "    Takes in month, and applies in logical to determine season of sale.\n",
    "    \"\"\"\n",
    "    if mon in short_rain:\n",
    "        return 'short_rain'\n",
    "    elif mon in long_rain:\n",
    "        return 'long_rain'\n",
    "    elif mon in short_dry:\n",
    "        return 'short_dry'\n",
    "    else:\n",
    "        return 'long_dry'\n",
    "\n",
    "# Create new feature based on the values returned from function\n",
    "train_df['seas_recorded'] = train_df['month_recorded'].apply(season)"
   ]
  },
  {
   "cell_type": "code",
   "execution_count": null,
   "id": "84bb6a2e",
   "metadata": {},
   "outputs": [],
   "source": []
  },
  {
   "cell_type": "code",
   "execution_count": null,
   "id": "d09718d2",
   "metadata": {},
   "outputs": [],
   "source": []
  },
  {
   "cell_type": "code",
   "execution_count": null,
   "id": "e0cd7249",
   "metadata": {
    "scrolled": true
   },
   "outputs": [],
   "source": [
    "rt_movie_info_df = pd.read_csv('zippedrt.reviews.tsv.gz', sep = '\\t')\n",
    "print(len(rt_movie_info_df))\n",
    "rt_movie_info_df.head()\n"
   ]
  },
  {
   "cell_type": "code",
   "execution_count": null,
   "id": "254d8369",
   "metadata": {},
   "outputs": [],
   "source": []
  }
 ],
 "metadata": {
  "kernelspec": {
   "display_name": "Python 3 (ipykernel)",
   "language": "python",
   "name": "python3"
  },
  "language_info": {
   "codemirror_mode": {
    "name": "ipython",
    "version": 3
   },
   "file_extension": ".py",
   "mimetype": "text/x-python",
   "name": "python",
   "nbconvert_exporter": "python",
   "pygments_lexer": "ipython3",
   "version": "3.9.7"
  },
  "toc": {
   "base_numbering": 1,
   "nav_menu": {},
   "number_sections": true,
   "sideBar": true,
   "skip_h1_title": false,
   "title_cell": "Table of Contents",
   "title_sidebar": "Contents",
   "toc_cell": false,
   "toc_position": {
    "height": "calc(100% - 180px)",
    "left": "10px",
    "top": "150px",
    "width": "293.195px"
   },
   "toc_section_display": true,
   "toc_window_display": true
  }
 },
 "nbformat": 4,
 "nbformat_minor": 5
}
